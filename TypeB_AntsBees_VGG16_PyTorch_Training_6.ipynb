{
  "nbformat": 4,
  "nbformat_minor": 0,
  "metadata": {
    "colab": {
      "provenance": [],
      "machine_shape": "hm",
      "toc_visible": true,
      "include_colab_link": true
    },
    "kernelspec": {
      "name": "python3",
      "display_name": "Python 3"
    },
    "accelerator": "GPU"
  },
  "cells": [
    {
      "cell_type": "markdown",
      "metadata": {
        "id": "view-in-github",
        "colab_type": "text"
      },
      "source": [
        "<a href=\"https://colab.research.google.com/github/kmsako/BERT/blob/main/TypeB_AntsBees_VGG16_PyTorch_Training_6.ipynb\" target=\"_parent\"><img src=\"https://colab.research.google.com/assets/colab-badge.svg\" alt=\"Open In Colab\"/></a>"
      ]
    },
    {
      "cell_type": "markdown",
      "metadata": {
        "id": "0r3yyuYCgoCx"
      },
      "source": [
        "# Ants Bees VGG16 による解析\n",
        "\n",
        "# Fitting\n",
        "\n",
        "# TypeBによるTrainingクラスの作成"
      ]
    },
    {
      "cell_type": "code",
      "metadata": {
        "colab": {
          "base_uri": "https://localhost:8080/"
        },
        "id": "L--C9RG3g3_G",
        "outputId": "8714eee2-2268-4e23-c14f-6de73ce4ecb1"
      },
      "source": [
        "%pwd\n",
        "from google.colab import drive\n",
        "drive.mount('/content/gdrive')"
      ],
      "execution_count": 1,
      "outputs": [
        {
          "output_type": "stream",
          "name": "stdout",
          "text": [
            "Mounted at /content/gdrive\n"
          ]
        }
      ]
    },
    {
      "cell_type": "code",
      "metadata": {
        "id": "1Cbxg3yxhwWM"
      },
      "source": [
        "'''\n",
        "3. 前処理前後の画像を確認する\n",
        "'''\n",
        "import numpy as np\n",
        "from PIL import Image\n",
        "from torchvision import transforms\n",
        "import matplotlib.pyplot as plt\n",
        "import os\n",
        "import torch\n",
        "import torch.utils.data as data\n",
        "from pathlib import Path\n"
      ],
      "execution_count": 2,
      "outputs": []
    },
    {
      "cell_type": "code",
      "source": [
        "torch.cuda.synchronize()\n",
        "print(torch.cuda.memory_allocated())"
      ],
      "metadata": {
        "colab": {
          "base_uri": "https://localhost:8080/"
        },
        "id": "9A3r4HNSYqB_",
        "outputId": "62edc055-0309-49b5-f4fd-285a9b641718"
      },
      "execution_count": 3,
      "outputs": [
        {
          "output_type": "stream",
          "name": "stdout",
          "text": [
            "0\n"
          ]
        }
      ]
    },
    {
      "cell_type": "code",
      "metadata": {
        "id": "gh1rToHihd-w"
      },
      "source": [
        "data_dir = '/content/gdrive/My Drive/Colab Notebooks/AntsBees_TypeB/data'\n",
        "root_dir= '/content/gdrive/My Drive/Colab Notebooks/AntsBees_TypeB/data/hymenoptera_data'"
      ],
      "execution_count": 11,
      "outputs": []
    },
    {
      "cell_type": "code",
      "source": [
        "os.chdir('/content/gdrive/My Drive/Colab Notebooks/AntsBees_TypeB')\n",
        "print(os.getcwd())"
      ],
      "metadata": {
        "id": "r4G6oDk1BImD",
        "colab": {
          "base_uri": "https://localhost:8080/"
        },
        "outputId": "090de35d-1812-4833-ee99-03ba23a72880"
      },
      "execution_count": 7,
      "outputs": [
        {
          "output_type": "stream",
          "name": "stdout",
          "text": [
            "/content/gdrive/My Drive/Colab Notebooks/AntsBees_TypeB\n"
          ]
        }
      ]
    },
    {
      "cell_type": "markdown",
      "source": [
        "###Deviceの設定"
      ],
      "metadata": {
        "id": "qj8XAnp_GCZi"
      }
    },
    {
      "cell_type": "code",
      "source": [
        "# 使用可能なデバイス(CPUまたはGPU）を取得する\n",
        "device = torch.device('cuda' if torch.cuda.is_available() else 'cpu')\n",
        "print(device)"
      ],
      "metadata": {
        "colab": {
          "base_uri": "https://localhost:8080/"
        },
        "id": "KAk6semaGFOy",
        "outputId": "daff939c-dc2d-4ca0-cfac-ea368cb1ab6d"
      },
      "execution_count": 8,
      "outputs": [
        {
          "output_type": "stream",
          "name": "stdout",
          "text": [
            "cuda\n"
          ]
        }
      ]
    },
    {
      "cell_type": "markdown",
      "metadata": {
        "id": "aV9gOzT8gat9"
      },
      "source": [
        "#(1) DataSet の作成"
      ]
    },
    {
      "cell_type": "markdown",
      "metadata": {
        "id": "Rr9qrNrrggeG"
      },
      "source": [
        "### train_list, val_list の作成"
      ]
    },
    {
      "cell_type": "code",
      "metadata": {
        "id": "R01r-VZqRdpM"
      },
      "source": [
        "import glob\n",
        "import pprint\n",
        "\n",
        "def make_datapath_list(phase='train'):\n",
        "    '''\n",
        "    データのファイルパスを格納したリストを作成する。\n",
        "\n",
        "    Parameters:\n",
        "      phase(str): 'train'または'val'\n",
        "\n",
        "    Returns:\n",
        "      path_list(list): 画像データのパスを格納したリスト\n",
        "    '''\n",
        "    # 画像ファイルのルートディレクトリ\n",
        "    # 画像ファイルパスのフォーマットを作成\n",
        "    # rootpath +\n",
        "    #   train/ants/*.jpg\n",
        "    #   train/bees/*.jpg\n",
        "    #   val/ants/*.jpg\n",
        "    #   val/bees/*.jpg\n",
        "    tt= phase +'/**/*.jpg'\n",
        "    target_path = os.path.join(root_dir,tt)\n",
        "    # ファイルパスを格納するリスト\n",
        "    path_list = []  # ここに格納する\n",
        "\n",
        "    # glob()でファイルパスを取得してリストに追加\n",
        "    for path in glob.glob(target_path):\n",
        "        path_list.append(path)\n",
        "\n",
        "    return path_list\n",
        "\n",
        "# ファイルパスのリストを生成\n",
        "train_list = make_datapath_list(phase='train')\n",
        "val_list = make_datapath_list(phase='val')\n",
        "file_list = {'train': train_list, 'val': val_list}\n",
        "\n",
        "\n",
        "\n",
        "\n",
        "\n"
      ],
      "execution_count": 19,
      "outputs": []
    },
    {
      "cell_type": "code",
      "metadata": {
        "colab": {
          "base_uri": "https://localhost:8080/"
        },
        "id": "663AnX9HDpkx",
        "outputId": "f50d09f9-3ec6-4ea0-f4da-64464653cead"
      },
      "source": [
        "p=Path(train_list[5])\n",
        "print(p)\n",
        "print(p.parts[-2])\n",
        "\n",
        "p2=Path(val_list[-4])\n",
        "print(p2.parts[-2])"
      ],
      "execution_count": 20,
      "outputs": [
        {
          "output_type": "stream",
          "name": "stdout",
          "text": [
            "/content/gdrive/My Drive/Colab Notebooks/AntsBees_TypeB/data/hymenoptera_data/train/ants/1262877379_64fcada201.jpg\n",
            "ants\n",
            "bees\n"
          ]
        }
      ]
    },
    {
      "cell_type": "markdown",
      "metadata": {
        "id": "dvrZ5dnImYaG"
      },
      "source": [
        "#（２）DataSetの作成"
      ]
    },
    {
      "cell_type": "code",
      "source": [
        "from dsets.dsets import MakeDataset\n",
        "from util.ImageTransform import ImageTransform"
      ],
      "metadata": {
        "id": "KyE5VAKf_eSJ"
      },
      "execution_count": 15,
      "outputs": []
    },
    {
      "cell_type": "code",
      "metadata": {
        "id": "bgpvJufWmX25"
      },
      "source": [
        "'''\n",
        "6. データローダーの生成\n",
        "'''\n",
        "import torch\n",
        "\n",
        "# ミニバッチのサイズを指定\n",
        "batch_size = 10\n",
        "SIZE = 224\n",
        "# 標準化する際の各RGBの平均値\n",
        "MEAN = (0.485, 0.456, 0.406) # ImageNetデータセットの平均値を使用\n",
        "# 標準化する際の各RGBの標準偏差\n",
        "STD = (0.229, 0.224, 0.225)  # ImageNetデータセットの標準偏差を使用\n",
        "\n",
        "\n",
        "# 画像のサイズ、平均値、標準偏差の定数値\n",
        "size, mean, std = SIZE, MEAN, STD\n",
        "\n",
        "# MakeDatasetで前処理後の訓練データと正解ラベルを取得\n",
        "train_dataset = MakeDataset(\n",
        "    file_list=file_list, # 訓練データのファイルパス\n",
        "    transform=ImageTransform(size, mean, std), # 前処理後のデータ\n",
        "    phase='train')\n",
        "# MakeDatasetで前処理後の検証データと正解ラベルを取得\n",
        "val_dataset = MakeDataset(\n",
        "    file_list=file_list, # 検証データのファイルパス\n",
        "    transform=ImageTransform(size, mean, std), # 前処理後のデータ\n",
        "    phase='val')\n"
      ],
      "execution_count": 21,
      "outputs": []
    },
    {
      "cell_type": "code",
      "source": [
        "print(len(train_list))\n",
        "print(len(val_list))"
      ],
      "metadata": {
        "colab": {
          "base_uri": "https://localhost:8080/"
        },
        "id": "yrbpxQk6e2nB",
        "outputId": "d59833af-1d66-4dcc-fd0d-599172c68b83"
      },
      "execution_count": 22,
      "outputs": [
        {
          "output_type": "stream",
          "name": "stdout",
          "text": [
            "242\n",
            "153\n"
          ]
        }
      ]
    },
    {
      "cell_type": "markdown",
      "metadata": {
        "id": "nEvHoi1xmOaD"
      },
      "source": [
        "#(2) DataLoader の作成"
      ]
    },
    {
      "cell_type": "code",
      "metadata": {
        "id": "oou2pgRvSDaK"
      },
      "source": [
        "'''\n",
        "6. データローダーの生成\n",
        "'''\n",
        "from torch.utils.data import DataLoader\n",
        "\n",
        "# 訓練用のデータローダー:(バッチサイズ, 3, 224, 224)を生成\n",
        "train_dl = DataLoader(train_dataset, batch_size=batch_size, shuffle=True)\n",
        "\n",
        "# 検証用のデータローダー:(バッチサイズ, 3, 224, 224)を生成\n",
        "val_dl = DataLoader(val_dataset, batch_size=batch_size, shuffle=False)\n",
        "\n"
      ],
      "execution_count": 23,
      "outputs": []
    },
    {
      "cell_type": "markdown",
      "metadata": {
        "id": "S08JSE7bADFx"
      },
      "source": [
        "#(4) モデルの作成"
      ]
    },
    {
      "cell_type": "markdown",
      "source": [
        "###初期学習と継続学習とを区別する"
      ],
      "metadata": {
        "id": "8w0_KRuAOk46"
      }
    },
    {
      "cell_type": "code",
      "source": [
        "from models.networks import network_vgg16\n",
        "\n"
      ],
      "metadata": {
        "id": "Vlq9U4keUf1o"
      },
      "execution_count": 24,
      "outputs": []
    },
    {
      "cell_type": "code",
      "metadata": {
        "id": "a7xokL9CTMNC"
      },
      "source": [
        "'''\n",
        "7. 学習済みのVGG16モデルをロード\n",
        "'''\n",
        "from torchvision import models\n",
        "import torch.nn as nn\n",
        "\n",
        "class Model():\n",
        "\n",
        "  def __init__(self,save_dir,isTrain,use_cuda,continue_train,which_epoch=0):\n",
        "\n",
        "    self.save_dir = save_dir\n",
        "    self.isTrain = isTrain\n",
        "    self.continue_train = continue_train\n",
        "    self.use_cuda = use_cuda\n",
        "    self.which_epoch = which_epoch\n",
        "\n",
        "    if self.isTrain:\n",
        "      self.model = network_vgg16()\n",
        "      print('train')\n",
        "      self.optimizer = torch.optim.SGD(self.model.parameters(), lr=0.001,momentum=0.99)\n",
        "\n",
        "      if not self.isTrain or self.continue_train:\n",
        "        self.load_network(self.model,self.which_epoch)\n",
        "        print('continued train')\n",
        "\n",
        "  def load_network(self,network,which_epoch):\n",
        "      save_filename = 'net_%s.pth' % (which_epoch)\n",
        "      save_path = os.path.join(self.save_dir, save_filename)\n",
        "      network.load_state_dict(torch.load(save_path))\n",
        "      print('load network:',save_path)\n",
        "\n",
        "  def train(self):\n",
        "    self.model.train()\n",
        "\n",
        "  def eval(self):\n",
        "    self.model.eval()\n",
        "\n",
        "\n"
      ],
      "execution_count": 25,
      "outputs": []
    },
    {
      "cell_type": "code",
      "source": [
        "import os\n",
        "print(os.getcwd())"
      ],
      "metadata": {
        "colab": {
          "base_uri": "https://localhost:8080/"
        },
        "id": "JwLA5PMCs860",
        "outputId": "e041a5d4-c924-4b0e-bf92-47730898bff1"
      },
      "execution_count": 26,
      "outputs": [
        {
          "output_type": "stream",
          "name": "stdout",
          "text": [
            "/content/gdrive/MyDrive/Colab Notebooks/AntsBees_TypeB\n"
          ]
        }
      ]
    },
    {
      "cell_type": "code",
      "source": [
        "epoch_start=int(18)+1\n",
        "epoch_end=epoch_start+4\n",
        "epoch_end=epoch_start+4\n",
        "\n",
        "for epoch_ndx in range(epoch_start,epoch_end):\n",
        "  print(epoch_ndx)"
      ],
      "metadata": {
        "colab": {
          "base_uri": "https://localhost:8080/"
        },
        "id": "9h-LYFkqmtXr",
        "outputId": "5cac3a2d-b037-43f4-8e5d-39e516b8ccb5"
      },
      "execution_count": 27,
      "outputs": [
        {
          "output_type": "stream",
          "name": "stdout",
          "text": [
            "19\n",
            "20\n",
            "21\n",
            "22\n"
          ]
        }
      ]
    },
    {
      "cell_type": "code",
      "source": [
        "import pickle\n",
        "from sklearn.metrics import accuracy_score\n",
        "from tqdm import tqdm\n",
        "import time\n",
        "\n",
        "def pickle_dump(obj, path):\n",
        "    with open(path, mode='wb') as f:\n",
        "        pickle.dump(obj,f)\n",
        "\n",
        "def pickle_load(path):\n",
        "    with open(path, mode='rb') as f:\n",
        "        data = pickle.load(f)\n",
        "        return data\n",
        "\n",
        "import torch.optim as optim\n",
        "\n",
        "METRICS_LABEL_NDX=0\n",
        "METRICS_PRED_NDX=1\n",
        "METRICS_LOSS_NDX=2\n",
        "METRICS_SIZE = 3\n",
        "\n",
        "\n",
        "# 損失関数\n",
        "criterion = nn.CrossEntropyLoss()\n",
        "\n",
        "# オプティマイザー\n",
        "#optimizer = optim.SGD(params=model.parameters(), lr=0.001, momentum=0.99)\n",
        "\n",
        "metrics_dict = {'epoch_ndx':[],'phase':[],'loss/all':[],'loss/neg':[], 'loss/pos':[],'correct/all':[],'correct/neg':[],'correct/pos':[],'pr/precision':[],'pr/recall':[],'pr/f1_score':[]}\n",
        "\n",
        "class Training:\n",
        "  def __init__(self,continue_train=True,which_epoch=0,how_much_epoch=4,save_freq=4):\n",
        "    #self.model=model(self.save_dir,self.isTrain,self.use_cuda,self.continue_train,self.which_epoch)\n",
        "    #self.optimizer=optim.SGD(params=self.model.parameters(), lr=0.001, momentum=0.99)\n",
        "    self.num_epochs=10\n",
        "    self.batch_size=10\n",
        "    self.use_cuda = True\n",
        "    self.continue_train = continue_train\n",
        "    self.isTrain = True\n",
        "    #self.train_dl = train_dl\n",
        "    #self.val_dl = val_dl\n",
        "    self.device = torch.device(\"cuda\" if self.use_cuda else \"cpu\")\n",
        "    #self.augmentation_dict = opt.augmentation_dict\n",
        "    self.save_dir = 'network'\n",
        "    self.log_dir = 'logmetrics'\n",
        "    self.how_much_epoch=how_much_epoch\n",
        "    self.which_epoch=which_epoch\n",
        "    self.save_freq = 4\n",
        "    self.model=Model(self.save_dir,self.isTrain,self.use_cuda,self.continue_train,self.which_epoch)\n",
        "    self.metrics_dict = {'epoch_ndx':[],'phase':[],'loss/all':[],'loss/neg':[], 'loss/pos':[],'correct/all':[],'correct/neg':[],'correct/pos':[],'pr/precision':[],'pr/recall':[],'pr/f1_score':[]}\n",
        "\n",
        "\n",
        "  def main(self):\n",
        "    t_epoch_start = time.time()\n",
        "    if self.continue_train:\n",
        "      epoch_start=int(self.which_epoch)+1\n",
        "      epoch_end=epoch_start+self.how_much_epoch\n",
        "    else:\n",
        "      epoch_start=1\n",
        "      epoch_end=epoch_start + self.how_much_epoch\n",
        "\n",
        "    #metrics_dict = {'epoch_ndx':[],'phase':[],'loss/all':[],'loss/neg':[], 'loss/pos':[],'correct/all':[],'correct/neg':[],'correct/pos':[],'pr/precision':[],'pr/recall':[],'pr/f1_score':[]}\n",
        "\n",
        "    for epoch_ndx in range(epoch_start,epoch_end):\n",
        "      print('----epoch:{}----'.format(epoch_ndx))\n",
        "      trnMetrics_t = self.doTraining(epoch_ndx, train_dl)\n",
        "      self.logMetrics(epoch_ndx, 'trn', trnMetrics_t)\n",
        "      print('doTraining_end')\n",
        "\n",
        "      valMetrics_t = self.doValidation(epoch_ndx, val_dl)\n",
        "      self.logMetrics(epoch_ndx, 'val', valMetrics_t)\n",
        "      print('doValidation_end')\n",
        "\n",
        "      if epoch_ndx % self.save_freq == 0:\n",
        "        print('saving the model at the end of epoch %d' % (epoch_ndx))\n",
        "        self.save_network(self.model.model,epoch_ndx)\n",
        "        print('saving the logMetrics at the end of epoch %d' % (epoch_ndx))\n",
        "        self.save_file(self.metrics_dict,epoch_ndx)\n",
        "\n",
        "    t_epoch_finish = time.time()\n",
        "\n",
        "    print('timer:  {:.4f} sec.'.format(t_epoch_finish - t_epoch_start))\n",
        "\n",
        "\n",
        "  def save_network(self, network, epoch_ndx, cpu=False):\n",
        "      save_filename = 'net_%s.pth' % (epoch_ndx)\n",
        "      save_path = os.path.join(self.save_dir, save_filename)\n",
        "      torch.save(network.cpu().state_dict(), save_path)\n",
        "      if not cpu and torch.cuda.is_available():\n",
        "          network.cuda()\n",
        "\n",
        "  def save_file(self,logMetrics,epoch_ndx):\n",
        "      save_filename = 'logMetrics_%s.pickle' % (epoch_ndx)\n",
        "      save_path = os.path.join(self.log_dir, save_filename)\n",
        "      with open(save_path, mode='wb') as f:\n",
        "          pickle.dump(logMetrics,f)\n",
        "\n",
        "\n",
        "  def doTraining(self, epoch_ndx, train_dl):\n",
        "\n",
        "    self.model.train()\n",
        "    trnMetrics_g = torch.zeros(\n",
        "            METRICS_SIZE,\n",
        "            len(train_dl.dataset),\n",
        "            device=self.device,\n",
        "        )\n",
        "\n",
        "    for batch_ndx, batch_tup in enumerate(tqdm(train_dl)):\n",
        "      self.model.optimizer.zero_grad()\n",
        "\n",
        "      loss_var = self.computeBatchLoss(\n",
        "        batch_ndx,\n",
        "        batch_tup,\n",
        "        train_dl.batch_size,\n",
        "        trnMetrics_g,)\n",
        "\n",
        "      loss_var.backward()\n",
        "      self.model.optimizer.step()\n",
        "\n",
        "    return trnMetrics_g.to('cpu')\n",
        "\n",
        "  def doValidation(self, epoch_ndx, val_dl):\n",
        "      with torch.no_grad():\n",
        "          self.model.eval()\n",
        "          valMetrics_g = torch.zeros(\n",
        "              METRICS_SIZE,\n",
        "              len(val_dl.dataset),\n",
        "              device=self.device,\n",
        "            )\n",
        "\n",
        "          for batch_ndx, batch_tup in enumerate(tqdm(val_dl)):\n",
        "              self.computeBatchLoss(\n",
        "                batch_ndx,\n",
        "                batch_tup,\n",
        "                val_dl.batch_size,\n",
        "                valMetrics_g,\n",
        "              )\n",
        "\n",
        "      return valMetrics_g.to('cpu')\n",
        "\n",
        "\n",
        "  def computeBatchLoss(self, batch_ndx, batch_tup, batch_size, metrics_g):\n",
        "\n",
        "      input_t, label_t = batch_tup\n",
        "      input_g = input_t.to(device)\n",
        "      label_g = label_t.to(device)\n",
        "      model= self.model.model.to(device)\n",
        "\n",
        "      outputs  = model(input_g)\n",
        "\n",
        "      softmax = nn.Softmax(dim=1)\n",
        "      prob_g= softmax(outputs)\n",
        "\n",
        "      loss_func = nn.CrossEntropyLoss(reduction='none')\n",
        "      loss_g = loss_func(outputs,label_g)\n",
        "\n",
        "      start_ndx = batch_ndx * batch_size\n",
        "      end_ndx = start_ndx + label_g.size()[0]\n",
        "\n",
        "      metrics_g[0, start_ndx:end_ndx] = label_g\n",
        "      metrics_g[1, start_ndx:end_ndx] = prob_g[:,1].detach()\n",
        "      metrics_g[2, start_ndx:end_ndx] = loss_g.detach()\n",
        "\n",
        "      return loss_g.mean()\n",
        "\n",
        "  #epochごとに算出する\n",
        "  def logMetrics(self,epoch_ndx,phase,metrics_t):\n",
        "\n",
        "      negLabel_mask = metrics_t[0] <= 0.5\n",
        "      negPred_mask = metrics_t[1] <= 0.5\n",
        "\n",
        "      posLabel_mask = ~negLabel_mask\n",
        "      posPred_mask = ~negPred_mask\n",
        "\n",
        "      neg_count = int(negLabel_mask.sum())\n",
        "      pos_count = int(posLabel_mask.sum())\n",
        "\n",
        "      trueNeg_count = neg_correct = int((negLabel_mask & negPred_mask).sum())\n",
        "      truePos_count = pos_correct = int((posLabel_mask & posPred_mask).sum())\n",
        "\n",
        "      falsePos_count = neg_count - neg_correct\n",
        "      falseNeg_count = pos_count - pos_correct\n",
        "\n",
        "      print('accuracy_all:{:.3f}'.format((pos_correct + neg_correct) / metrics_t.shape[1] * 100))\n",
        "      print('accuracy_neg:{:.3f}'.format((neg_correct) / neg_count * 100))\n",
        "      print('accuracy_pos:{:.3f}'.format((pos_correct) / pos_count * 100))\n",
        "\n",
        "      self.metrics_dict['phase'].append(phase)\n",
        "      self.metrics_dict['epoch_ndx'].append(epoch_ndx)\n",
        "      self.metrics_dict['loss/all'].append(metrics_t[METRICS_LOSS_NDX].mean().item())\n",
        "      self.metrics_dict['loss/neg'].append(metrics_t[METRICS_LOSS_NDX, negLabel_mask].mean().item())\n",
        "      self.metrics_dict['loss/pos'].append(metrics_t[METRICS_LOSS_NDX, posLabel_mask].mean().item())\n",
        "\n",
        "      self.metrics_dict['correct/all'].append((pos_correct + neg_correct) / metrics_t.shape[1] * 100)\n",
        "      self.metrics_dict['correct/neg'].append((neg_correct) / neg_count * 100)\n",
        "      self.metrics_dict['correct/pos'].append((pos_correct) / pos_count * 100)\n",
        "\n",
        "      self.metrics_dict['pr/precision'].append(truePos_count / np.float32(truePos_count + falsePos_count))\n",
        "      self.metrics_dict['pr/recall'].append(truePos_count / np.float32(truePos_count + falseNeg_count))\n",
        "\n",
        "      precision = truePos_count / np.float32(truePos_count + falsePos_count)\n",
        "      recall = truePos_count / np.float32(truePos_count + falseNeg_count)\n",
        "\n",
        "      self.metrics_dict['pr/f1_score'].append(2 * (precision * recall) / (precision + recall))\n",
        "\n",
        "\n",
        "\n"
      ],
      "metadata": {
        "id": "Tz1Ep5TjiRKY"
      },
      "execution_count": 32,
      "outputs": []
    },
    {
      "cell_type": "markdown",
      "source": [
        "#初回学習"
      ],
      "metadata": {
        "id": "boOSn7m390Xz"
      }
    },
    {
      "cell_type": "code",
      "source": [
        "Training(continue_train=False,how_much_epoch=20,save_freq=20).main()"
      ],
      "metadata": {
        "colab": {
          "base_uri": "https://localhost:8080/"
        },
        "id": "w52S1rH4kakQ",
        "outputId": "105393a7-2aa1-4b77-a64d-fad5d179e051"
      },
      "execution_count": 33,
      "outputs": [
        {
          "output_type": "stream",
          "name": "stderr",
          "text": [
            "/usr/local/lib/python3.11/dist-packages/torchvision/models/_utils.py:208: UserWarning: The parameter 'pretrained' is deprecated since 0.13 and may be removed in the future, please use 'weights' instead.\n",
            "  warnings.warn(\n",
            "/usr/local/lib/python3.11/dist-packages/torchvision/models/_utils.py:223: UserWarning: Arguments other than a weight enum or `None` for 'weights' are deprecated since 0.13 and may be removed in the future. The current behavior is equivalent to passing `weights=VGG16_Weights.IMAGENET1K_V1`. You can also use `weights=VGG16_Weights.DEFAULT` to get the most up-to-date weights.\n",
            "  warnings.warn(msg)\n"
          ]
        },
        {
          "output_type": "stream",
          "name": "stdout",
          "text": [
            "classifier.6.weight\n",
            "classifier.6.bias\n",
            "train\n",
            "----epoch:1----\n"
          ]
        },
        {
          "output_type": "stream",
          "name": "stderr",
          "text": [
            "100%|██████████| 25/25 [01:49<00:00,  4.38s/it]\n"
          ]
        },
        {
          "output_type": "stream",
          "name": "stdout",
          "text": [
            "accuracy_all:88.430\n",
            "accuracy_neg:89.167\n",
            "accuracy_pos:87.705\n",
            "doTraining_end\n"
          ]
        },
        {
          "output_type": "stream",
          "name": "stderr",
          "text": [
            "100%|██████████| 16/16 [02:16<00:00,  8.52s/it]\n"
          ]
        },
        {
          "output_type": "stream",
          "name": "stdout",
          "text": [
            "accuracy_all:95.425\n",
            "accuracy_neg:96.386\n",
            "accuracy_pos:94.286\n",
            "doValidation_end\n",
            "----epoch:2----\n"
          ]
        },
        {
          "output_type": "stream",
          "name": "stderr",
          "text": [
            "100%|██████████| 25/25 [00:02<00:00, 12.19it/s]\n"
          ]
        },
        {
          "output_type": "stream",
          "name": "stdout",
          "text": [
            "accuracy_all:94.628\n",
            "accuracy_neg:94.167\n",
            "accuracy_pos:95.082\n",
            "doTraining_end\n"
          ]
        },
        {
          "output_type": "stream",
          "name": "stderr",
          "text": [
            "100%|██████████| 16/16 [00:01<00:00, 11.77it/s]\n"
          ]
        },
        {
          "output_type": "stream",
          "name": "stdout",
          "text": [
            "accuracy_all:96.732\n",
            "accuracy_neg:96.386\n",
            "accuracy_pos:97.143\n",
            "doValidation_end\n",
            "----epoch:3----\n"
          ]
        },
        {
          "output_type": "stream",
          "name": "stderr",
          "text": [
            "100%|██████████| 25/25 [00:02<00:00, 12.50it/s]\n"
          ]
        },
        {
          "output_type": "stream",
          "name": "stdout",
          "text": [
            "accuracy_all:94.628\n",
            "accuracy_neg:90.833\n",
            "accuracy_pos:98.361\n",
            "doTraining_end\n"
          ]
        },
        {
          "output_type": "stream",
          "name": "stderr",
          "text": [
            "100%|██████████| 16/16 [00:01<00:00, 11.16it/s]\n"
          ]
        },
        {
          "output_type": "stream",
          "name": "stdout",
          "text": [
            "accuracy_all:97.386\n",
            "accuracy_neg:96.386\n",
            "accuracy_pos:98.571\n",
            "doValidation_end\n",
            "----epoch:4----\n"
          ]
        },
        {
          "output_type": "stream",
          "name": "stderr",
          "text": [
            "100%|██████████| 25/25 [00:02<00:00, 12.03it/s]\n"
          ]
        },
        {
          "output_type": "stream",
          "name": "stdout",
          "text": [
            "accuracy_all:94.628\n",
            "accuracy_neg:100.000\n",
            "accuracy_pos:89.344\n",
            "doTraining_end\n"
          ]
        },
        {
          "output_type": "stream",
          "name": "stderr",
          "text": [
            "100%|██████████| 16/16 [00:01<00:00, 11.93it/s]\n"
          ]
        },
        {
          "output_type": "stream",
          "name": "stdout",
          "text": [
            "accuracy_all:98.039\n",
            "accuracy_neg:98.795\n",
            "accuracy_pos:97.143\n",
            "doValidation_end\n",
            "saving the model at the end of epoch 4\n",
            "saving the logMetrics at the end of epoch 4\n",
            "----epoch:5----\n"
          ]
        },
        {
          "output_type": "stream",
          "name": "stderr",
          "text": [
            "100%|██████████| 25/25 [00:03<00:00,  8.20it/s]\n"
          ]
        },
        {
          "output_type": "stream",
          "name": "stdout",
          "text": [
            "accuracy_all:94.628\n",
            "accuracy_neg:95.000\n",
            "accuracy_pos:94.262\n",
            "doTraining_end\n"
          ]
        },
        {
          "output_type": "stream",
          "name": "stderr",
          "text": [
            "100%|██████████| 16/16 [00:01<00:00, 11.21it/s]\n"
          ]
        },
        {
          "output_type": "stream",
          "name": "stdout",
          "text": [
            "accuracy_all:94.771\n",
            "accuracy_neg:90.361\n",
            "accuracy_pos:100.000\n",
            "doValidation_end\n",
            "----epoch:6----\n"
          ]
        },
        {
          "output_type": "stream",
          "name": "stderr",
          "text": [
            "100%|██████████| 25/25 [00:02<00:00, 12.18it/s]\n"
          ]
        },
        {
          "output_type": "stream",
          "name": "stdout",
          "text": [
            "accuracy_all:95.455\n",
            "accuracy_neg:90.833\n",
            "accuracy_pos:100.000\n",
            "doTraining_end\n"
          ]
        },
        {
          "output_type": "stream",
          "name": "stderr",
          "text": [
            "100%|██████████| 16/16 [00:01<00:00, 11.54it/s]\n"
          ]
        },
        {
          "output_type": "stream",
          "name": "stdout",
          "text": [
            "accuracy_all:96.078\n",
            "accuracy_neg:95.181\n",
            "accuracy_pos:97.143\n",
            "doValidation_end\n",
            "----epoch:7----\n"
          ]
        },
        {
          "output_type": "stream",
          "name": "stderr",
          "text": [
            "100%|██████████| 25/25 [00:02<00:00, 11.77it/s]\n"
          ]
        },
        {
          "output_type": "stream",
          "name": "stdout",
          "text": [
            "accuracy_all:95.455\n",
            "accuracy_neg:97.500\n",
            "accuracy_pos:93.443\n",
            "doTraining_end\n"
          ]
        },
        {
          "output_type": "stream",
          "name": "stderr",
          "text": [
            "100%|██████████| 16/16 [00:01<00:00, 10.85it/s]\n"
          ]
        },
        {
          "output_type": "stream",
          "name": "stdout",
          "text": [
            "accuracy_all:96.078\n",
            "accuracy_neg:97.590\n",
            "accuracy_pos:94.286\n",
            "doValidation_end\n",
            "----epoch:8----\n"
          ]
        },
        {
          "output_type": "stream",
          "name": "stderr",
          "text": [
            "100%|██████████| 25/25 [00:02<00:00, 10.82it/s]\n"
          ]
        },
        {
          "output_type": "stream",
          "name": "stdout",
          "text": [
            "accuracy_all:96.694\n",
            "accuracy_neg:99.167\n",
            "accuracy_pos:94.262\n",
            "doTraining_end\n"
          ]
        },
        {
          "output_type": "stream",
          "name": "stderr",
          "text": [
            "100%|██████████| 16/16 [00:01<00:00, 10.36it/s]\n"
          ]
        },
        {
          "output_type": "stream",
          "name": "stdout",
          "text": [
            "accuracy_all:96.078\n",
            "accuracy_neg:95.181\n",
            "accuracy_pos:97.143\n",
            "doValidation_end\n",
            "saving the model at the end of epoch 8\n",
            "saving the logMetrics at the end of epoch 8\n",
            "----epoch:9----\n"
          ]
        },
        {
          "output_type": "stream",
          "name": "stderr",
          "text": [
            "100%|██████████| 25/25 [00:03<00:00,  7.56it/s]\n"
          ]
        },
        {
          "output_type": "stream",
          "name": "stdout",
          "text": [
            "accuracy_all:95.041\n",
            "accuracy_neg:91.667\n",
            "accuracy_pos:98.361\n",
            "doTraining_end\n"
          ]
        },
        {
          "output_type": "stream",
          "name": "stderr",
          "text": [
            "100%|██████████| 16/16 [00:01<00:00, 10.53it/s]\n"
          ]
        },
        {
          "output_type": "stream",
          "name": "stdout",
          "text": [
            "accuracy_all:96.732\n",
            "accuracy_neg:95.181\n",
            "accuracy_pos:98.571\n",
            "doValidation_end\n",
            "----epoch:10----\n"
          ]
        },
        {
          "output_type": "stream",
          "name": "stderr",
          "text": [
            "100%|██████████| 25/25 [00:02<00:00, 12.40it/s]\n"
          ]
        },
        {
          "output_type": "stream",
          "name": "stdout",
          "text": [
            "accuracy_all:96.694\n",
            "accuracy_neg:96.667\n",
            "accuracy_pos:96.721\n",
            "doTraining_end\n"
          ]
        },
        {
          "output_type": "stream",
          "name": "stderr",
          "text": [
            "100%|██████████| 16/16 [00:01<00:00, 11.66it/s]\n"
          ]
        },
        {
          "output_type": "stream",
          "name": "stdout",
          "text": [
            "accuracy_all:96.078\n",
            "accuracy_neg:95.181\n",
            "accuracy_pos:97.143\n",
            "doValidation_end\n",
            "----epoch:11----\n"
          ]
        },
        {
          "output_type": "stream",
          "name": "stderr",
          "text": [
            "100%|██████████| 25/25 [00:02<00:00, 11.94it/s]\n"
          ]
        },
        {
          "output_type": "stream",
          "name": "stdout",
          "text": [
            "accuracy_all:97.934\n",
            "accuracy_neg:98.333\n",
            "accuracy_pos:97.541\n",
            "doTraining_end\n"
          ]
        },
        {
          "output_type": "stream",
          "name": "stderr",
          "text": [
            "100%|██████████| 16/16 [00:01<00:00, 10.99it/s]\n"
          ]
        },
        {
          "output_type": "stream",
          "name": "stdout",
          "text": [
            "accuracy_all:94.771\n",
            "accuracy_neg:95.181\n",
            "accuracy_pos:94.286\n",
            "doValidation_end\n",
            "----epoch:12----\n"
          ]
        },
        {
          "output_type": "stream",
          "name": "stderr",
          "text": [
            "100%|██████████| 25/25 [00:02<00:00, 11.83it/s]\n"
          ]
        },
        {
          "output_type": "stream",
          "name": "stdout",
          "text": [
            "accuracy_all:96.694\n",
            "accuracy_neg:99.167\n",
            "accuracy_pos:94.262\n",
            "doTraining_end\n"
          ]
        },
        {
          "output_type": "stream",
          "name": "stderr",
          "text": [
            "100%|██████████| 16/16 [00:01<00:00, 10.18it/s]\n"
          ]
        },
        {
          "output_type": "stream",
          "name": "stdout",
          "text": [
            "accuracy_all:94.771\n",
            "accuracy_neg:95.181\n",
            "accuracy_pos:94.286\n",
            "doValidation_end\n",
            "saving the model at the end of epoch 12\n",
            "saving the logMetrics at the end of epoch 12\n",
            "----epoch:13----\n"
          ]
        },
        {
          "output_type": "stream",
          "name": "stderr",
          "text": [
            "100%|██████████| 25/25 [00:02<00:00,  9.14it/s]\n"
          ]
        },
        {
          "output_type": "stream",
          "name": "stdout",
          "text": [
            "accuracy_all:97.934\n",
            "accuracy_neg:97.500\n",
            "accuracy_pos:98.361\n",
            "doTraining_end\n"
          ]
        },
        {
          "output_type": "stream",
          "name": "stderr",
          "text": [
            "100%|██████████| 16/16 [00:01<00:00, 11.65it/s]\n"
          ]
        },
        {
          "output_type": "stream",
          "name": "stdout",
          "text": [
            "accuracy_all:95.425\n",
            "accuracy_neg:95.181\n",
            "accuracy_pos:95.714\n",
            "doValidation_end\n",
            "----epoch:14----\n"
          ]
        },
        {
          "output_type": "stream",
          "name": "stderr",
          "text": [
            "100%|██████████| 25/25 [00:02<00:00, 12.22it/s]\n"
          ]
        },
        {
          "output_type": "stream",
          "name": "stdout",
          "text": [
            "accuracy_all:97.934\n",
            "accuracy_neg:97.500\n",
            "accuracy_pos:98.361\n",
            "doTraining_end\n"
          ]
        },
        {
          "output_type": "stream",
          "name": "stderr",
          "text": [
            "100%|██████████| 16/16 [00:01<00:00, 11.31it/s]\n"
          ]
        },
        {
          "output_type": "stream",
          "name": "stdout",
          "text": [
            "accuracy_all:96.078\n",
            "accuracy_neg:95.181\n",
            "accuracy_pos:97.143\n",
            "doValidation_end\n",
            "----epoch:15----\n"
          ]
        },
        {
          "output_type": "stream",
          "name": "stderr",
          "text": [
            "100%|██████████| 25/25 [00:02<00:00, 10.94it/s]\n"
          ]
        },
        {
          "output_type": "stream",
          "name": "stdout",
          "text": [
            "accuracy_all:96.281\n",
            "accuracy_neg:95.000\n",
            "accuracy_pos:97.541\n",
            "doTraining_end\n"
          ]
        },
        {
          "output_type": "stream",
          "name": "stderr",
          "text": [
            "100%|██████████| 16/16 [00:01<00:00, 11.02it/s]\n"
          ]
        },
        {
          "output_type": "stream",
          "name": "stdout",
          "text": [
            "accuracy_all:95.425\n",
            "accuracy_neg:95.181\n",
            "accuracy_pos:95.714\n",
            "doValidation_end\n",
            "----epoch:16----\n"
          ]
        },
        {
          "output_type": "stream",
          "name": "stderr",
          "text": [
            "100%|██████████| 25/25 [00:02<00:00, 11.41it/s]\n"
          ]
        },
        {
          "output_type": "stream",
          "name": "stdout",
          "text": [
            "accuracy_all:96.694\n",
            "accuracy_neg:95.000\n",
            "accuracy_pos:98.361\n",
            "doTraining_end\n"
          ]
        },
        {
          "output_type": "stream",
          "name": "stderr",
          "text": [
            "100%|██████████| 16/16 [00:01<00:00, 11.41it/s]\n"
          ]
        },
        {
          "output_type": "stream",
          "name": "stdout",
          "text": [
            "accuracy_all:94.771\n",
            "accuracy_neg:95.181\n",
            "accuracy_pos:94.286\n",
            "doValidation_end\n",
            "saving the model at the end of epoch 16\n",
            "saving the logMetrics at the end of epoch 16\n",
            "----epoch:17----\n"
          ]
        },
        {
          "output_type": "stream",
          "name": "stderr",
          "text": [
            "100%|██████████| 25/25 [00:02<00:00, 11.24it/s]\n"
          ]
        },
        {
          "output_type": "stream",
          "name": "stdout",
          "text": [
            "accuracy_all:97.107\n",
            "accuracy_neg:100.000\n",
            "accuracy_pos:94.262\n",
            "doTraining_end\n"
          ]
        },
        {
          "output_type": "stream",
          "name": "stderr",
          "text": [
            "100%|██████████| 16/16 [00:01<00:00, 10.42it/s]\n"
          ]
        },
        {
          "output_type": "stream",
          "name": "stdout",
          "text": [
            "accuracy_all:94.771\n",
            "accuracy_neg:95.181\n",
            "accuracy_pos:94.286\n",
            "doValidation_end\n",
            "----epoch:18----\n"
          ]
        },
        {
          "output_type": "stream",
          "name": "stderr",
          "text": [
            "100%|██████████| 25/25 [00:02<00:00, 11.79it/s]\n"
          ]
        },
        {
          "output_type": "stream",
          "name": "stdout",
          "text": [
            "accuracy_all:95.041\n",
            "accuracy_neg:92.500\n",
            "accuracy_pos:97.541\n",
            "doTraining_end\n"
          ]
        },
        {
          "output_type": "stream",
          "name": "stderr",
          "text": [
            "100%|██████████| 16/16 [00:01<00:00, 11.77it/s]\n"
          ]
        },
        {
          "output_type": "stream",
          "name": "stdout",
          "text": [
            "accuracy_all:96.078\n",
            "accuracy_neg:95.181\n",
            "accuracy_pos:97.143\n",
            "doValidation_end\n",
            "----epoch:19----\n"
          ]
        },
        {
          "output_type": "stream",
          "name": "stderr",
          "text": [
            "100%|██████████| 25/25 [00:02<00:00, 11.78it/s]\n"
          ]
        },
        {
          "output_type": "stream",
          "name": "stdout",
          "text": [
            "accuracy_all:97.521\n",
            "accuracy_neg:98.333\n",
            "accuracy_pos:96.721\n",
            "doTraining_end\n"
          ]
        },
        {
          "output_type": "stream",
          "name": "stderr",
          "text": [
            "100%|██████████| 16/16 [00:01<00:00, 11.11it/s]\n"
          ]
        },
        {
          "output_type": "stream",
          "name": "stdout",
          "text": [
            "accuracy_all:95.425\n",
            "accuracy_neg:95.181\n",
            "accuracy_pos:95.714\n",
            "doValidation_end\n",
            "----epoch:20----\n"
          ]
        },
        {
          "output_type": "stream",
          "name": "stderr",
          "text": [
            "100%|██████████| 25/25 [00:02<00:00, 11.87it/s]\n"
          ]
        },
        {
          "output_type": "stream",
          "name": "stdout",
          "text": [
            "accuracy_all:98.347\n",
            "accuracy_neg:99.167\n",
            "accuracy_pos:97.541\n",
            "doTraining_end\n"
          ]
        },
        {
          "output_type": "stream",
          "name": "stderr",
          "text": [
            "100%|██████████| 16/16 [00:01<00:00, 11.12it/s]\n"
          ]
        },
        {
          "output_type": "stream",
          "name": "stdout",
          "text": [
            "accuracy_all:96.078\n",
            "accuracy_neg:95.181\n",
            "accuracy_pos:97.143\n",
            "doValidation_end\n",
            "saving the model at the end of epoch 20\n",
            "saving the logMetrics at the end of epoch 20\n",
            "timer:  407.6167 sec.\n"
          ]
        }
      ]
    },
    {
      "cell_type": "code",
      "source": [
        "import pandas as pd\n",
        "import pickle\n",
        "with open('logmetrics/logMetrics_20.pickle','rb') as f:\n",
        "  d=pickle.load(f)\n",
        "  df=pd.DataFrame(d)\n",
        "print(df)"
      ],
      "metadata": {
        "colab": {
          "base_uri": "https://localhost:8080/"
        },
        "id": "yH3P37UMSgcg",
        "outputId": "3a832602-7838-461c-96da-cbc69c134c3d"
      },
      "execution_count": 34,
      "outputs": [
        {
          "output_type": "stream",
          "name": "stdout",
          "text": [
            "    epoch_ndx phase  loss/all  loss/neg  loss/pos  correct/all  correct/neg  \\\n",
            "0           1   trn  0.291094  0.253183  0.328384    88.429752    89.166667   \n",
            "1           1   val  0.123713  0.101528  0.150018    95.424837    96.385542   \n",
            "2           2   trn  0.191007  0.161760  0.219776    94.628099    94.166667   \n",
            "3           2   val  0.143699  0.179075  0.101753    96.732026    96.385542   \n",
            "4           3   trn  0.236984  0.412523  0.064322    94.628099    90.833333   \n",
            "5           3   val  0.193651  0.342800  0.016804    97.385621    96.385542   \n",
            "6           4   trn  0.216573  0.000318  0.429282    94.628099   100.000000   \n",
            "7           4   val  0.135511  0.163383  0.102462    98.039216    98.795181   \n",
            "8           5   trn  0.510301  0.377706  0.640723    94.628099    95.000000   \n",
            "9           5   val  0.520292  0.958923  0.000201    94.771242    90.361446   \n",
            "10          6   trn  0.248615  0.497127  0.004177    95.454545    90.833333   \n",
            "11          6   val  0.312878  0.551063  0.030458    96.078431    95.180723   \n",
            "12          7   trn  0.368748  0.130429  0.603161    95.454545    97.500000   \n",
            "13          7   val  0.403480  0.200279  0.644419    96.078431    97.590361   \n",
            "14          8   trn  0.236879  0.012212  0.457863    96.694215    99.166667   \n",
            "15          8   val  0.451738  0.658096  0.207057    96.078431    95.180723   \n",
            "16          9   trn  0.674826  1.189457  0.168631    95.041322    91.666667   \n",
            "17          9   val  0.586872  0.976921  0.124384    96.732026    95.180723   \n",
            "18         10   trn  0.446281  0.358663  0.532462    96.694215    96.666667   \n",
            "19         10   val  0.553473  0.750415  0.319956    96.078431    95.180723   \n",
            "20         11   trn  0.179775  0.244564  0.116049    97.933884    98.333333   \n",
            "21         11   val  0.581514  0.430600  0.760455    94.771242    95.180723   \n",
            "22         12   trn  0.181528  0.023665  0.336802    96.694215    99.166667   \n",
            "23         12   val  0.573266  0.423889  0.750385    94.771242    95.180723   \n",
            "24         13   trn  0.225395  0.236662  0.214312    97.933884    97.500000   \n",
            "25         13   val  0.552594  0.699238  0.378717    95.424837    95.180723   \n",
            "26         14   trn  0.144873  0.142552  0.147156    97.933884    97.500000   \n",
            "27         14   val  0.581430  0.819703  0.298908    96.078431    95.180723   \n",
            "28         15   trn  0.287894  0.347398  0.229365    96.280992    95.000000   \n",
            "29         15   val  0.622256  0.857394  0.343449    95.424837    95.180723   \n",
            "30         16   trn  0.474866  0.626648  0.325572    96.694215    95.000000   \n",
            "31         16   val  0.666912  0.623887  0.717928    94.771242    95.180723   \n",
            "32         17   trn  0.394664  0.004499  0.778432    97.107438   100.000000   \n",
            "33         17   val  0.637500  0.709423  0.552221    94.771242    95.180723   \n",
            "34         18   trn  0.636390  0.872262  0.404384    95.041322    92.500000   \n",
            "35         18   val  0.621988  0.871665  0.325942    96.078431    95.180723   \n",
            "36         19   trn  0.230447  0.251236  0.209998    97.520661    98.333333   \n",
            "37         19   val  0.587078  0.664030  0.495835    95.424837    95.180723   \n",
            "38         20   trn  0.104349  0.060547  0.147433    98.347107    99.166667   \n",
            "39         20   val  0.609450  0.706861  0.493948    96.078431    95.180723   \n",
            "\n",
            "    correct/pos  pr/precision  pr/recall  pr/f1_score  \n",
            "0     87.704918      0.891667   0.877049     0.884298  \n",
            "1     94.285714      0.956522   0.942857     0.949640  \n",
            "2     95.081967      0.943089   0.950820     0.946939  \n",
            "3     97.142857      0.957746   0.971429     0.964539  \n",
            "4     98.360656      0.916031   0.983607     0.948617  \n",
            "5     98.571429      0.958333   0.985714     0.971831  \n",
            "6     89.344262      1.000000   0.893443     0.943723  \n",
            "7     97.142857      0.985507   0.971429     0.978417  \n",
            "8     94.262295      0.950413   0.942623     0.946502  \n",
            "9    100.000000      0.897436   1.000000     0.945946  \n",
            "10   100.000000      0.917293   1.000000     0.956863  \n",
            "11    97.142857      0.944444   0.971429     0.957746  \n",
            "12    93.442623      0.974359   0.934426     0.953975  \n",
            "13    94.285714      0.970588   0.942857     0.956522  \n",
            "14    94.262295      0.991379   0.942623     0.966387  \n",
            "15    97.142857      0.944444   0.971429     0.957746  \n",
            "16    98.360656      0.923077   0.983607     0.952381  \n",
            "17    98.571429      0.945205   0.985714     0.965035  \n",
            "18    96.721311      0.967213   0.967213     0.967213  \n",
            "19    97.142857      0.944444   0.971429     0.957746  \n",
            "20    97.540984      0.983471   0.975410     0.979424  \n",
            "21    94.285714      0.942857   0.942857     0.942857  \n",
            "22    94.262295      0.991379   0.942623     0.966387  \n",
            "23    94.285714      0.942857   0.942857     0.942857  \n",
            "24    98.360656      0.975610   0.983607     0.979592  \n",
            "25    95.714286      0.943662   0.957143     0.950355  \n",
            "26    98.360656      0.975610   0.983607     0.979592  \n",
            "27    97.142857      0.944444   0.971429     0.957746  \n",
            "28    97.540984      0.952000   0.975410     0.963563  \n",
            "29    95.714286      0.943662   0.957143     0.950355  \n",
            "30    98.360656      0.952381   0.983607     0.967742  \n",
            "31    94.285714      0.942857   0.942857     0.942857  \n",
            "32    94.262295      1.000000   0.942623     0.970464  \n",
            "33    94.285714      0.942857   0.942857     0.942857  \n",
            "34    97.540984      0.929688   0.975410     0.952000  \n",
            "35    97.142857      0.944444   0.971429     0.957746  \n",
            "36    96.721311      0.983333   0.967213     0.975207  \n",
            "37    95.714286      0.943662   0.957143     0.950355  \n",
            "38    97.540984      0.991667   0.975410     0.983471  \n",
            "39    97.142857      0.944444   0.971429     0.957746  \n"
          ]
        }
      ]
    },
    {
      "cell_type": "code",
      "source": [
        "history_train=df.loc[df['phase']=='trn']\n",
        "history_val=df.loc[df['phase']=='val']\n",
        "first_train=df.loc[df['epoch_ndx']==1]\n",
        "print(first_train)\n",
        "\n",
        "key1=df['epoch_ndx']==5\n",
        "key2=df['phase']=='trn'\n",
        "key=key1&key2\n",
        "print(key)"
      ],
      "metadata": {
        "id": "siCsLXu4ncD2",
        "colab": {
          "base_uri": "https://localhost:8080/"
        },
        "outputId": "cda8fa76-e22e-404c-c2a1-76db7ec80d48"
      },
      "execution_count": 35,
      "outputs": [
        {
          "output_type": "stream",
          "name": "stdout",
          "text": [
            "   epoch_ndx phase  loss/all  loss/neg  loss/pos  correct/all  correct/neg  \\\n",
            "0          1   trn  0.291094  0.253183  0.328384    88.429752    89.166667   \n",
            "1          1   val  0.123713  0.101528  0.150018    95.424837    96.385542   \n",
            "\n",
            "   correct/pos  pr/precision  pr/recall  pr/f1_score  \n",
            "0    87.704918      0.891667   0.877049     0.884298  \n",
            "1    94.285714      0.956522   0.942857     0.949640  \n",
            "0     False\n",
            "1     False\n",
            "2     False\n",
            "3     False\n",
            "4     False\n",
            "5     False\n",
            "6     False\n",
            "7     False\n",
            "8      True\n",
            "9     False\n",
            "10    False\n",
            "11    False\n",
            "12    False\n",
            "13    False\n",
            "14    False\n",
            "15    False\n",
            "16    False\n",
            "17    False\n",
            "18    False\n",
            "19    False\n",
            "20    False\n",
            "21    False\n",
            "22    False\n",
            "23    False\n",
            "24    False\n",
            "25    False\n",
            "26    False\n",
            "27    False\n",
            "28    False\n",
            "29    False\n",
            "30    False\n",
            "31    False\n",
            "32    False\n",
            "33    False\n",
            "34    False\n",
            "35    False\n",
            "36    False\n",
            "37    False\n",
            "38    False\n",
            "39    False\n",
            "dtype: bool\n"
          ]
        }
      ]
    },
    {
      "cell_type": "code",
      "source": [
        "correct_all=df.loc[(df['epoch_ndx']==5)&(df['phase']=='trn'),'correct/all']\n",
        "print(correct_all)"
      ],
      "metadata": {
        "colab": {
          "base_uri": "https://localhost:8080/"
        },
        "id": "kU4S_EL0I8bT",
        "outputId": "eb1312c8-c9ee-47cb-9304-2f108ef9b926"
      },
      "execution_count": 36,
      "outputs": [
        {
          "output_type": "stream",
          "name": "stdout",
          "text": [
            "8    94.628099\n",
            "Name: correct/all, dtype: float64\n"
          ]
        }
      ]
    },
    {
      "cell_type": "code",
      "source": [
        "display(history_train)\n",
        "display(history_val)"
      ],
      "metadata": {
        "colab": {
          "base_uri": "https://localhost:8080/",
          "height": 1000
        },
        "id": "ffBWp7RanrSQ",
        "outputId": "24ba19f9-af03-406a-bd6f-9edaafc2766a"
      },
      "execution_count": 37,
      "outputs": [
        {
          "output_type": "display_data",
          "data": {
            "text/plain": [
              "    epoch_ndx phase  loss/all  loss/neg  loss/pos  correct/all  correct/neg  \\\n",
              "0           1   trn  0.291094  0.253183  0.328384    88.429752    89.166667   \n",
              "2           2   trn  0.191007  0.161760  0.219776    94.628099    94.166667   \n",
              "4           3   trn  0.236984  0.412523  0.064322    94.628099    90.833333   \n",
              "6           4   trn  0.216573  0.000318  0.429282    94.628099   100.000000   \n",
              "8           5   trn  0.510301  0.377706  0.640723    94.628099    95.000000   \n",
              "10          6   trn  0.248615  0.497127  0.004177    95.454545    90.833333   \n",
              "12          7   trn  0.368748  0.130429  0.603161    95.454545    97.500000   \n",
              "14          8   trn  0.236879  0.012212  0.457863    96.694215    99.166667   \n",
              "16          9   trn  0.674826  1.189457  0.168631    95.041322    91.666667   \n",
              "18         10   trn  0.446281  0.358663  0.532462    96.694215    96.666667   \n",
              "20         11   trn  0.179775  0.244564  0.116049    97.933884    98.333333   \n",
              "22         12   trn  0.181528  0.023665  0.336802    96.694215    99.166667   \n",
              "24         13   trn  0.225395  0.236662  0.214312    97.933884    97.500000   \n",
              "26         14   trn  0.144873  0.142552  0.147156    97.933884    97.500000   \n",
              "28         15   trn  0.287894  0.347398  0.229365    96.280992    95.000000   \n",
              "30         16   trn  0.474866  0.626648  0.325572    96.694215    95.000000   \n",
              "32         17   trn  0.394664  0.004499  0.778432    97.107438   100.000000   \n",
              "34         18   trn  0.636390  0.872262  0.404384    95.041322    92.500000   \n",
              "36         19   trn  0.230447  0.251236  0.209998    97.520661    98.333333   \n",
              "38         20   trn  0.104349  0.060547  0.147433    98.347107    99.166667   \n",
              "\n",
              "    correct/pos  pr/precision  pr/recall  pr/f1_score  \n",
              "0     87.704918      0.891667   0.877049     0.884298  \n",
              "2     95.081967      0.943089   0.950820     0.946939  \n",
              "4     98.360656      0.916031   0.983607     0.948617  \n",
              "6     89.344262      1.000000   0.893443     0.943723  \n",
              "8     94.262295      0.950413   0.942623     0.946502  \n",
              "10   100.000000      0.917293   1.000000     0.956863  \n",
              "12    93.442623      0.974359   0.934426     0.953975  \n",
              "14    94.262295      0.991379   0.942623     0.966387  \n",
              "16    98.360656      0.923077   0.983607     0.952381  \n",
              "18    96.721311      0.967213   0.967213     0.967213  \n",
              "20    97.540984      0.983471   0.975410     0.979424  \n",
              "22    94.262295      0.991379   0.942623     0.966387  \n",
              "24    98.360656      0.975610   0.983607     0.979592  \n",
              "26    98.360656      0.975610   0.983607     0.979592  \n",
              "28    97.540984      0.952000   0.975410     0.963563  \n",
              "30    98.360656      0.952381   0.983607     0.967742  \n",
              "32    94.262295      1.000000   0.942623     0.970464  \n",
              "34    97.540984      0.929688   0.975410     0.952000  \n",
              "36    96.721311      0.983333   0.967213     0.975207  \n",
              "38    97.540984      0.991667   0.975410     0.983471  "
            ],
            "text/html": [
              "\n",
              "  <div id=\"df-22a72666-75f7-4f41-85d8-2e29c36e0f26\" class=\"colab-df-container\">\n",
              "    <div>\n",
              "<style scoped>\n",
              "    .dataframe tbody tr th:only-of-type {\n",
              "        vertical-align: middle;\n",
              "    }\n",
              "\n",
              "    .dataframe tbody tr th {\n",
              "        vertical-align: top;\n",
              "    }\n",
              "\n",
              "    .dataframe thead th {\n",
              "        text-align: right;\n",
              "    }\n",
              "</style>\n",
              "<table border=\"1\" class=\"dataframe\">\n",
              "  <thead>\n",
              "    <tr style=\"text-align: right;\">\n",
              "      <th></th>\n",
              "      <th>epoch_ndx</th>\n",
              "      <th>phase</th>\n",
              "      <th>loss/all</th>\n",
              "      <th>loss/neg</th>\n",
              "      <th>loss/pos</th>\n",
              "      <th>correct/all</th>\n",
              "      <th>correct/neg</th>\n",
              "      <th>correct/pos</th>\n",
              "      <th>pr/precision</th>\n",
              "      <th>pr/recall</th>\n",
              "      <th>pr/f1_score</th>\n",
              "    </tr>\n",
              "  </thead>\n",
              "  <tbody>\n",
              "    <tr>\n",
              "      <th>0</th>\n",
              "      <td>1</td>\n",
              "      <td>trn</td>\n",
              "      <td>0.291094</td>\n",
              "      <td>0.253183</td>\n",
              "      <td>0.328384</td>\n",
              "      <td>88.429752</td>\n",
              "      <td>89.166667</td>\n",
              "      <td>87.704918</td>\n",
              "      <td>0.891667</td>\n",
              "      <td>0.877049</td>\n",
              "      <td>0.884298</td>\n",
              "    </tr>\n",
              "    <tr>\n",
              "      <th>2</th>\n",
              "      <td>2</td>\n",
              "      <td>trn</td>\n",
              "      <td>0.191007</td>\n",
              "      <td>0.161760</td>\n",
              "      <td>0.219776</td>\n",
              "      <td>94.628099</td>\n",
              "      <td>94.166667</td>\n",
              "      <td>95.081967</td>\n",
              "      <td>0.943089</td>\n",
              "      <td>0.950820</td>\n",
              "      <td>0.946939</td>\n",
              "    </tr>\n",
              "    <tr>\n",
              "      <th>4</th>\n",
              "      <td>3</td>\n",
              "      <td>trn</td>\n",
              "      <td>0.236984</td>\n",
              "      <td>0.412523</td>\n",
              "      <td>0.064322</td>\n",
              "      <td>94.628099</td>\n",
              "      <td>90.833333</td>\n",
              "      <td>98.360656</td>\n",
              "      <td>0.916031</td>\n",
              "      <td>0.983607</td>\n",
              "      <td>0.948617</td>\n",
              "    </tr>\n",
              "    <tr>\n",
              "      <th>6</th>\n",
              "      <td>4</td>\n",
              "      <td>trn</td>\n",
              "      <td>0.216573</td>\n",
              "      <td>0.000318</td>\n",
              "      <td>0.429282</td>\n",
              "      <td>94.628099</td>\n",
              "      <td>100.000000</td>\n",
              "      <td>89.344262</td>\n",
              "      <td>1.000000</td>\n",
              "      <td>0.893443</td>\n",
              "      <td>0.943723</td>\n",
              "    </tr>\n",
              "    <tr>\n",
              "      <th>8</th>\n",
              "      <td>5</td>\n",
              "      <td>trn</td>\n",
              "      <td>0.510301</td>\n",
              "      <td>0.377706</td>\n",
              "      <td>0.640723</td>\n",
              "      <td>94.628099</td>\n",
              "      <td>95.000000</td>\n",
              "      <td>94.262295</td>\n",
              "      <td>0.950413</td>\n",
              "      <td>0.942623</td>\n",
              "      <td>0.946502</td>\n",
              "    </tr>\n",
              "    <tr>\n",
              "      <th>10</th>\n",
              "      <td>6</td>\n",
              "      <td>trn</td>\n",
              "      <td>0.248615</td>\n",
              "      <td>0.497127</td>\n",
              "      <td>0.004177</td>\n",
              "      <td>95.454545</td>\n",
              "      <td>90.833333</td>\n",
              "      <td>100.000000</td>\n",
              "      <td>0.917293</td>\n",
              "      <td>1.000000</td>\n",
              "      <td>0.956863</td>\n",
              "    </tr>\n",
              "    <tr>\n",
              "      <th>12</th>\n",
              "      <td>7</td>\n",
              "      <td>trn</td>\n",
              "      <td>0.368748</td>\n",
              "      <td>0.130429</td>\n",
              "      <td>0.603161</td>\n",
              "      <td>95.454545</td>\n",
              "      <td>97.500000</td>\n",
              "      <td>93.442623</td>\n",
              "      <td>0.974359</td>\n",
              "      <td>0.934426</td>\n",
              "      <td>0.953975</td>\n",
              "    </tr>\n",
              "    <tr>\n",
              "      <th>14</th>\n",
              "      <td>8</td>\n",
              "      <td>trn</td>\n",
              "      <td>0.236879</td>\n",
              "      <td>0.012212</td>\n",
              "      <td>0.457863</td>\n",
              "      <td>96.694215</td>\n",
              "      <td>99.166667</td>\n",
              "      <td>94.262295</td>\n",
              "      <td>0.991379</td>\n",
              "      <td>0.942623</td>\n",
              "      <td>0.966387</td>\n",
              "    </tr>\n",
              "    <tr>\n",
              "      <th>16</th>\n",
              "      <td>9</td>\n",
              "      <td>trn</td>\n",
              "      <td>0.674826</td>\n",
              "      <td>1.189457</td>\n",
              "      <td>0.168631</td>\n",
              "      <td>95.041322</td>\n",
              "      <td>91.666667</td>\n",
              "      <td>98.360656</td>\n",
              "      <td>0.923077</td>\n",
              "      <td>0.983607</td>\n",
              "      <td>0.952381</td>\n",
              "    </tr>\n",
              "    <tr>\n",
              "      <th>18</th>\n",
              "      <td>10</td>\n",
              "      <td>trn</td>\n",
              "      <td>0.446281</td>\n",
              "      <td>0.358663</td>\n",
              "      <td>0.532462</td>\n",
              "      <td>96.694215</td>\n",
              "      <td>96.666667</td>\n",
              "      <td>96.721311</td>\n",
              "      <td>0.967213</td>\n",
              "      <td>0.967213</td>\n",
              "      <td>0.967213</td>\n",
              "    </tr>\n",
              "    <tr>\n",
              "      <th>20</th>\n",
              "      <td>11</td>\n",
              "      <td>trn</td>\n",
              "      <td>0.179775</td>\n",
              "      <td>0.244564</td>\n",
              "      <td>0.116049</td>\n",
              "      <td>97.933884</td>\n",
              "      <td>98.333333</td>\n",
              "      <td>97.540984</td>\n",
              "      <td>0.983471</td>\n",
              "      <td>0.975410</td>\n",
              "      <td>0.979424</td>\n",
              "    </tr>\n",
              "    <tr>\n",
              "      <th>22</th>\n",
              "      <td>12</td>\n",
              "      <td>trn</td>\n",
              "      <td>0.181528</td>\n",
              "      <td>0.023665</td>\n",
              "      <td>0.336802</td>\n",
              "      <td>96.694215</td>\n",
              "      <td>99.166667</td>\n",
              "      <td>94.262295</td>\n",
              "      <td>0.991379</td>\n",
              "      <td>0.942623</td>\n",
              "      <td>0.966387</td>\n",
              "    </tr>\n",
              "    <tr>\n",
              "      <th>24</th>\n",
              "      <td>13</td>\n",
              "      <td>trn</td>\n",
              "      <td>0.225395</td>\n",
              "      <td>0.236662</td>\n",
              "      <td>0.214312</td>\n",
              "      <td>97.933884</td>\n",
              "      <td>97.500000</td>\n",
              "      <td>98.360656</td>\n",
              "      <td>0.975610</td>\n",
              "      <td>0.983607</td>\n",
              "      <td>0.979592</td>\n",
              "    </tr>\n",
              "    <tr>\n",
              "      <th>26</th>\n",
              "      <td>14</td>\n",
              "      <td>trn</td>\n",
              "      <td>0.144873</td>\n",
              "      <td>0.142552</td>\n",
              "      <td>0.147156</td>\n",
              "      <td>97.933884</td>\n",
              "      <td>97.500000</td>\n",
              "      <td>98.360656</td>\n",
              "      <td>0.975610</td>\n",
              "      <td>0.983607</td>\n",
              "      <td>0.979592</td>\n",
              "    </tr>\n",
              "    <tr>\n",
              "      <th>28</th>\n",
              "      <td>15</td>\n",
              "      <td>trn</td>\n",
              "      <td>0.287894</td>\n",
              "      <td>0.347398</td>\n",
              "      <td>0.229365</td>\n",
              "      <td>96.280992</td>\n",
              "      <td>95.000000</td>\n",
              "      <td>97.540984</td>\n",
              "      <td>0.952000</td>\n",
              "      <td>0.975410</td>\n",
              "      <td>0.963563</td>\n",
              "    </tr>\n",
              "    <tr>\n",
              "      <th>30</th>\n",
              "      <td>16</td>\n",
              "      <td>trn</td>\n",
              "      <td>0.474866</td>\n",
              "      <td>0.626648</td>\n",
              "      <td>0.325572</td>\n",
              "      <td>96.694215</td>\n",
              "      <td>95.000000</td>\n",
              "      <td>98.360656</td>\n",
              "      <td>0.952381</td>\n",
              "      <td>0.983607</td>\n",
              "      <td>0.967742</td>\n",
              "    </tr>\n",
              "    <tr>\n",
              "      <th>32</th>\n",
              "      <td>17</td>\n",
              "      <td>trn</td>\n",
              "      <td>0.394664</td>\n",
              "      <td>0.004499</td>\n",
              "      <td>0.778432</td>\n",
              "      <td>97.107438</td>\n",
              "      <td>100.000000</td>\n",
              "      <td>94.262295</td>\n",
              "      <td>1.000000</td>\n",
              "      <td>0.942623</td>\n",
              "      <td>0.970464</td>\n",
              "    </tr>\n",
              "    <tr>\n",
              "      <th>34</th>\n",
              "      <td>18</td>\n",
              "      <td>trn</td>\n",
              "      <td>0.636390</td>\n",
              "      <td>0.872262</td>\n",
              "      <td>0.404384</td>\n",
              "      <td>95.041322</td>\n",
              "      <td>92.500000</td>\n",
              "      <td>97.540984</td>\n",
              "      <td>0.929688</td>\n",
              "      <td>0.975410</td>\n",
              "      <td>0.952000</td>\n",
              "    </tr>\n",
              "    <tr>\n",
              "      <th>36</th>\n",
              "      <td>19</td>\n",
              "      <td>trn</td>\n",
              "      <td>0.230447</td>\n",
              "      <td>0.251236</td>\n",
              "      <td>0.209998</td>\n",
              "      <td>97.520661</td>\n",
              "      <td>98.333333</td>\n",
              "      <td>96.721311</td>\n",
              "      <td>0.983333</td>\n",
              "      <td>0.967213</td>\n",
              "      <td>0.975207</td>\n",
              "    </tr>\n",
              "    <tr>\n",
              "      <th>38</th>\n",
              "      <td>20</td>\n",
              "      <td>trn</td>\n",
              "      <td>0.104349</td>\n",
              "      <td>0.060547</td>\n",
              "      <td>0.147433</td>\n",
              "      <td>98.347107</td>\n",
              "      <td>99.166667</td>\n",
              "      <td>97.540984</td>\n",
              "      <td>0.991667</td>\n",
              "      <td>0.975410</td>\n",
              "      <td>0.983471</td>\n",
              "    </tr>\n",
              "  </tbody>\n",
              "</table>\n",
              "</div>\n",
              "    <div class=\"colab-df-buttons\">\n",
              "\n",
              "  <div class=\"colab-df-container\">\n",
              "    <button class=\"colab-df-convert\" onclick=\"convertToInteractive('df-22a72666-75f7-4f41-85d8-2e29c36e0f26')\"\n",
              "            title=\"Convert this dataframe to an interactive table.\"\n",
              "            style=\"display:none;\">\n",
              "\n",
              "  <svg xmlns=\"http://www.w3.org/2000/svg\" height=\"24px\" viewBox=\"0 -960 960 960\">\n",
              "    <path d=\"M120-120v-720h720v720H120Zm60-500h600v-160H180v160Zm220 220h160v-160H400v160Zm0 220h160v-160H400v160ZM180-400h160v-160H180v160Zm440 0h160v-160H620v160ZM180-180h160v-160H180v160Zm440 0h160v-160H620v160Z\"/>\n",
              "  </svg>\n",
              "    </button>\n",
              "\n",
              "  <style>\n",
              "    .colab-df-container {\n",
              "      display:flex;\n",
              "      gap: 12px;\n",
              "    }\n",
              "\n",
              "    .colab-df-convert {\n",
              "      background-color: #E8F0FE;\n",
              "      border: none;\n",
              "      border-radius: 50%;\n",
              "      cursor: pointer;\n",
              "      display: none;\n",
              "      fill: #1967D2;\n",
              "      height: 32px;\n",
              "      padding: 0 0 0 0;\n",
              "      width: 32px;\n",
              "    }\n",
              "\n",
              "    .colab-df-convert:hover {\n",
              "      background-color: #E2EBFA;\n",
              "      box-shadow: 0px 1px 2px rgba(60, 64, 67, 0.3), 0px 1px 3px 1px rgba(60, 64, 67, 0.15);\n",
              "      fill: #174EA6;\n",
              "    }\n",
              "\n",
              "    .colab-df-buttons div {\n",
              "      margin-bottom: 4px;\n",
              "    }\n",
              "\n",
              "    [theme=dark] .colab-df-convert {\n",
              "      background-color: #3B4455;\n",
              "      fill: #D2E3FC;\n",
              "    }\n",
              "\n",
              "    [theme=dark] .colab-df-convert:hover {\n",
              "      background-color: #434B5C;\n",
              "      box-shadow: 0px 1px 3px 1px rgba(0, 0, 0, 0.15);\n",
              "      filter: drop-shadow(0px 1px 2px rgba(0, 0, 0, 0.3));\n",
              "      fill: #FFFFFF;\n",
              "    }\n",
              "  </style>\n",
              "\n",
              "    <script>\n",
              "      const buttonEl =\n",
              "        document.querySelector('#df-22a72666-75f7-4f41-85d8-2e29c36e0f26 button.colab-df-convert');\n",
              "      buttonEl.style.display =\n",
              "        google.colab.kernel.accessAllowed ? 'block' : 'none';\n",
              "\n",
              "      async function convertToInteractive(key) {\n",
              "        const element = document.querySelector('#df-22a72666-75f7-4f41-85d8-2e29c36e0f26');\n",
              "        const dataTable =\n",
              "          await google.colab.kernel.invokeFunction('convertToInteractive',\n",
              "                                                    [key], {});\n",
              "        if (!dataTable) return;\n",
              "\n",
              "        const docLinkHtml = 'Like what you see? Visit the ' +\n",
              "          '<a target=\"_blank\" href=https://colab.research.google.com/notebooks/data_table.ipynb>data table notebook</a>'\n",
              "          + ' to learn more about interactive tables.';\n",
              "        element.innerHTML = '';\n",
              "        dataTable['output_type'] = 'display_data';\n",
              "        await google.colab.output.renderOutput(dataTable, element);\n",
              "        const docLink = document.createElement('div');\n",
              "        docLink.innerHTML = docLinkHtml;\n",
              "        element.appendChild(docLink);\n",
              "      }\n",
              "    </script>\n",
              "  </div>\n",
              "\n",
              "\n",
              "<div id=\"df-51c479c2-4976-4a84-8e49-266eef27b7c3\">\n",
              "  <button class=\"colab-df-quickchart\" onclick=\"quickchart('df-51c479c2-4976-4a84-8e49-266eef27b7c3')\"\n",
              "            title=\"Suggest charts\"\n",
              "            style=\"display:none;\">\n",
              "\n",
              "<svg xmlns=\"http://www.w3.org/2000/svg\" height=\"24px\"viewBox=\"0 0 24 24\"\n",
              "     width=\"24px\">\n",
              "    <g>\n",
              "        <path d=\"M19 3H5c-1.1 0-2 .9-2 2v14c0 1.1.9 2 2 2h14c1.1 0 2-.9 2-2V5c0-1.1-.9-2-2-2zM9 17H7v-7h2v7zm4 0h-2V7h2v10zm4 0h-2v-4h2v4z\"/>\n",
              "    </g>\n",
              "</svg>\n",
              "  </button>\n",
              "\n",
              "<style>\n",
              "  .colab-df-quickchart {\n",
              "      --bg-color: #E8F0FE;\n",
              "      --fill-color: #1967D2;\n",
              "      --hover-bg-color: #E2EBFA;\n",
              "      --hover-fill-color: #174EA6;\n",
              "      --disabled-fill-color: #AAA;\n",
              "      --disabled-bg-color: #DDD;\n",
              "  }\n",
              "\n",
              "  [theme=dark] .colab-df-quickchart {\n",
              "      --bg-color: #3B4455;\n",
              "      --fill-color: #D2E3FC;\n",
              "      --hover-bg-color: #434B5C;\n",
              "      --hover-fill-color: #FFFFFF;\n",
              "      --disabled-bg-color: #3B4455;\n",
              "      --disabled-fill-color: #666;\n",
              "  }\n",
              "\n",
              "  .colab-df-quickchart {\n",
              "    background-color: var(--bg-color);\n",
              "    border: none;\n",
              "    border-radius: 50%;\n",
              "    cursor: pointer;\n",
              "    display: none;\n",
              "    fill: var(--fill-color);\n",
              "    height: 32px;\n",
              "    padding: 0;\n",
              "    width: 32px;\n",
              "  }\n",
              "\n",
              "  .colab-df-quickchart:hover {\n",
              "    background-color: var(--hover-bg-color);\n",
              "    box-shadow: 0 1px 2px rgba(60, 64, 67, 0.3), 0 1px 3px 1px rgba(60, 64, 67, 0.15);\n",
              "    fill: var(--button-hover-fill-color);\n",
              "  }\n",
              "\n",
              "  .colab-df-quickchart-complete:disabled,\n",
              "  .colab-df-quickchart-complete:disabled:hover {\n",
              "    background-color: var(--disabled-bg-color);\n",
              "    fill: var(--disabled-fill-color);\n",
              "    box-shadow: none;\n",
              "  }\n",
              "\n",
              "  .colab-df-spinner {\n",
              "    border: 2px solid var(--fill-color);\n",
              "    border-color: transparent;\n",
              "    border-bottom-color: var(--fill-color);\n",
              "    animation:\n",
              "      spin 1s steps(1) infinite;\n",
              "  }\n",
              "\n",
              "  @keyframes spin {\n",
              "    0% {\n",
              "      border-color: transparent;\n",
              "      border-bottom-color: var(--fill-color);\n",
              "      border-left-color: var(--fill-color);\n",
              "    }\n",
              "    20% {\n",
              "      border-color: transparent;\n",
              "      border-left-color: var(--fill-color);\n",
              "      border-top-color: var(--fill-color);\n",
              "    }\n",
              "    30% {\n",
              "      border-color: transparent;\n",
              "      border-left-color: var(--fill-color);\n",
              "      border-top-color: var(--fill-color);\n",
              "      border-right-color: var(--fill-color);\n",
              "    }\n",
              "    40% {\n",
              "      border-color: transparent;\n",
              "      border-right-color: var(--fill-color);\n",
              "      border-top-color: var(--fill-color);\n",
              "    }\n",
              "    60% {\n",
              "      border-color: transparent;\n",
              "      border-right-color: var(--fill-color);\n",
              "    }\n",
              "    80% {\n",
              "      border-color: transparent;\n",
              "      border-right-color: var(--fill-color);\n",
              "      border-bottom-color: var(--fill-color);\n",
              "    }\n",
              "    90% {\n",
              "      border-color: transparent;\n",
              "      border-bottom-color: var(--fill-color);\n",
              "    }\n",
              "  }\n",
              "</style>\n",
              "\n",
              "  <script>\n",
              "    async function quickchart(key) {\n",
              "      const quickchartButtonEl =\n",
              "        document.querySelector('#' + key + ' button');\n",
              "      quickchartButtonEl.disabled = true;  // To prevent multiple clicks.\n",
              "      quickchartButtonEl.classList.add('colab-df-spinner');\n",
              "      try {\n",
              "        const charts = await google.colab.kernel.invokeFunction(\n",
              "            'suggestCharts', [key], {});\n",
              "      } catch (error) {\n",
              "        console.error('Error during call to suggestCharts:', error);\n",
              "      }\n",
              "      quickchartButtonEl.classList.remove('colab-df-spinner');\n",
              "      quickchartButtonEl.classList.add('colab-df-quickchart-complete');\n",
              "    }\n",
              "    (() => {\n",
              "      let quickchartButtonEl =\n",
              "        document.querySelector('#df-51c479c2-4976-4a84-8e49-266eef27b7c3 button');\n",
              "      quickchartButtonEl.style.display =\n",
              "        google.colab.kernel.accessAllowed ? 'block' : 'none';\n",
              "    })();\n",
              "  </script>\n",
              "</div>\n",
              "\n",
              "  <div id=\"id_47f97642-3c0a-40b8-8065-f58aa8f02004\">\n",
              "    <style>\n",
              "      .colab-df-generate {\n",
              "        background-color: #E8F0FE;\n",
              "        border: none;\n",
              "        border-radius: 50%;\n",
              "        cursor: pointer;\n",
              "        display: none;\n",
              "        fill: #1967D2;\n",
              "        height: 32px;\n",
              "        padding: 0 0 0 0;\n",
              "        width: 32px;\n",
              "      }\n",
              "\n",
              "      .colab-df-generate:hover {\n",
              "        background-color: #E2EBFA;\n",
              "        box-shadow: 0px 1px 2px rgba(60, 64, 67, 0.3), 0px 1px 3px 1px rgba(60, 64, 67, 0.15);\n",
              "        fill: #174EA6;\n",
              "      }\n",
              "\n",
              "      [theme=dark] .colab-df-generate {\n",
              "        background-color: #3B4455;\n",
              "        fill: #D2E3FC;\n",
              "      }\n",
              "\n",
              "      [theme=dark] .colab-df-generate:hover {\n",
              "        background-color: #434B5C;\n",
              "        box-shadow: 0px 1px 3px 1px rgba(0, 0, 0, 0.15);\n",
              "        filter: drop-shadow(0px 1px 2px rgba(0, 0, 0, 0.3));\n",
              "        fill: #FFFFFF;\n",
              "      }\n",
              "    </style>\n",
              "    <button class=\"colab-df-generate\" onclick=\"generateWithVariable('history_train')\"\n",
              "            title=\"Generate code using this dataframe.\"\n",
              "            style=\"display:none;\">\n",
              "\n",
              "  <svg xmlns=\"http://www.w3.org/2000/svg\" height=\"24px\"viewBox=\"0 0 24 24\"\n",
              "       width=\"24px\">\n",
              "    <path d=\"M7,19H8.4L18.45,9,17,7.55,7,17.6ZM5,21V16.75L18.45,3.32a2,2,0,0,1,2.83,0l1.4,1.43a1.91,1.91,0,0,1,.58,1.4,1.91,1.91,0,0,1-.58,1.4L9.25,21ZM18.45,9,17,7.55Zm-12,3A5.31,5.31,0,0,0,4.9,8.1,5.31,5.31,0,0,0,1,6.5,5.31,5.31,0,0,0,4.9,4.9,5.31,5.31,0,0,0,6.5,1,5.31,5.31,0,0,0,8.1,4.9,5.31,5.31,0,0,0,12,6.5,5.46,5.46,0,0,0,6.5,12Z\"/>\n",
              "  </svg>\n",
              "    </button>\n",
              "    <script>\n",
              "      (() => {\n",
              "      const buttonEl =\n",
              "        document.querySelector('#id_47f97642-3c0a-40b8-8065-f58aa8f02004 button.colab-df-generate');\n",
              "      buttonEl.style.display =\n",
              "        google.colab.kernel.accessAllowed ? 'block' : 'none';\n",
              "\n",
              "      buttonEl.onclick = () => {\n",
              "        google.colab.notebook.generateWithVariable('history_train');\n",
              "      }\n",
              "      })();\n",
              "    </script>\n",
              "  </div>\n",
              "\n",
              "    </div>\n",
              "  </div>\n"
            ],
            "application/vnd.google.colaboratory.intrinsic+json": {
              "type": "dataframe",
              "variable_name": "history_train",
              "summary": "{\n  \"name\": \"history_train\",\n  \"rows\": 20,\n  \"fields\": [\n    {\n      \"column\": \"epoch_ndx\",\n      \"properties\": {\n        \"dtype\": \"number\",\n        \"std\": 5,\n        \"min\": 1,\n        \"max\": 20,\n        \"num_unique_values\": 20,\n        \"samples\": [\n          1,\n          18,\n          16\n        ],\n        \"semantic_type\": \"\",\n        \"description\": \"\"\n      }\n    },\n    {\n      \"column\": \"phase\",\n      \"properties\": {\n        \"dtype\": \"category\",\n        \"num_unique_values\": 1,\n        \"samples\": [\n          \"trn\"\n        ],\n        \"semantic_type\": \"\",\n        \"description\": \"\"\n      }\n    },\n    {\n      \"column\": \"loss/all\",\n      \"properties\": {\n        \"dtype\": \"number\",\n        \"std\": 0.16066942744804608,\n        \"min\": 0.10434924066066742,\n        \"max\": 0.6748256683349609,\n        \"num_unique_values\": 20,\n        \"samples\": [\n          0.2910940647125244\n        ],\n        \"semantic_type\": \"\",\n        \"description\": \"\"\n      }\n    },\n    {\n      \"column\": \"loss/neg\",\n      \"properties\": {\n        \"dtype\": \"number\",\n        \"std\": 0.30473918841091846,\n        \"min\": 0.00031824063626118004,\n        \"max\": 1.1894570589065552,\n        \"num_unique_values\": 20,\n        \"samples\": [\n          0.25318294763565063\n        ],\n        \"semantic_type\": \"\",\n        \"description\": \"\"\n      }\n    },\n    {\n      \"column\": \"loss/pos\",\n      \"properties\": {\n        \"dtype\": \"number\",\n        \"std\": 0.2061575652400668,\n        \"min\": 0.004176995251327753,\n        \"max\": 0.7784323692321777,\n        \"num_unique_values\": 20,\n        \"samples\": [\n          0.3283836841583252\n        ],\n        \"semantic_type\": \"\",\n        \"description\": \"\"\n      }\n    },\n    {\n      \"column\": \"correct/all\",\n      \"properties\": {\n        \"dtype\": \"number\",\n        \"std\": 2.167893370129663,\n        \"min\": 88.42975206611571,\n        \"max\": 98.34710743801654,\n        \"num_unique_values\": 10,\n        \"samples\": [\n          97.52066115702479\n        ],\n        \"semantic_type\": \"\",\n        \"description\": \"\"\n      }\n    },\n    {\n      \"column\": \"correct/neg\",\n      \"properties\": {\n        \"dtype\": \"number\",\n        \"std\": 3.382045386175658,\n        \"min\": 89.16666666666667,\n        \"max\": 100.0,\n        \"num_unique_values\": 11,\n        \"samples\": [\n          97.5\n        ],\n        \"semantic_type\": \"\",\n        \"description\": \"\"\n      }\n    },\n    {\n      \"column\": \"correct/pos\",\n      \"properties\": {\n        \"dtype\": \"number\",\n        \"std\": 3.13534811227034,\n        \"min\": 87.70491803278688,\n        \"max\": 100.0,\n        \"num_unique_values\": 9,\n        \"samples\": [\n          96.72131147540983\n        ],\n        \"semantic_type\": \"\",\n        \"description\": \"\"\n      }\n    },\n    {\n      \"column\": \"pr/precision\",\n      \"properties\": {\n        \"dtype\": \"number\",\n        \"std\": 0.031802862720216596,\n        \"min\": 0.8916666666666667,\n        \"max\": 1.0,\n        \"num_unique_values\": 17,\n        \"samples\": [\n          0.8916666666666667\n        ],\n        \"semantic_type\": \"\",\n        \"description\": \"\"\n      }\n    },\n    {\n      \"column\": \"pr/recall\",\n      \"properties\": {\n        \"dtype\": \"number\",\n        \"std\": 0.03135348112270339,\n        \"min\": 0.8770491803278688,\n        \"max\": 1.0,\n        \"num_unique_values\": 9,\n        \"samples\": [\n          0.9672131147540983\n        ],\n        \"semantic_type\": \"\",\n        \"description\": \"\"\n      }\n    },\n    {\n      \"column\": \"pr/f1_score\",\n      \"properties\": {\n        \"dtype\": \"number\",\n        \"std\": 0.021614980536747496,\n        \"min\": 0.884297520661157,\n        \"max\": 0.9834710743801653,\n        \"num_unique_values\": 18,\n        \"samples\": [\n          0.884297520661157\n        ],\n        \"semantic_type\": \"\",\n        \"description\": \"\"\n      }\n    }\n  ]\n}"
            }
          },
          "metadata": {}
        },
        {
          "output_type": "display_data",
          "data": {
            "text/plain": [
              "    epoch_ndx phase  loss/all  loss/neg  loss/pos  correct/all  correct/neg  \\\n",
              "1           1   val  0.123713  0.101528  0.150018    95.424837    96.385542   \n",
              "3           2   val  0.143699  0.179075  0.101753    96.732026    96.385542   \n",
              "5           3   val  0.193651  0.342800  0.016804    97.385621    96.385542   \n",
              "7           4   val  0.135511  0.163383  0.102462    98.039216    98.795181   \n",
              "9           5   val  0.520292  0.958923  0.000201    94.771242    90.361446   \n",
              "11          6   val  0.312878  0.551063  0.030458    96.078431    95.180723   \n",
              "13          7   val  0.403480  0.200279  0.644419    96.078431    97.590361   \n",
              "15          8   val  0.451738  0.658096  0.207057    96.078431    95.180723   \n",
              "17          9   val  0.586872  0.976921  0.124384    96.732026    95.180723   \n",
              "19         10   val  0.553473  0.750415  0.319956    96.078431    95.180723   \n",
              "21         11   val  0.581514  0.430600  0.760455    94.771242    95.180723   \n",
              "23         12   val  0.573266  0.423889  0.750385    94.771242    95.180723   \n",
              "25         13   val  0.552594  0.699238  0.378717    95.424837    95.180723   \n",
              "27         14   val  0.581430  0.819703  0.298908    96.078431    95.180723   \n",
              "29         15   val  0.622256  0.857394  0.343449    95.424837    95.180723   \n",
              "31         16   val  0.666912  0.623887  0.717928    94.771242    95.180723   \n",
              "33         17   val  0.637500  0.709423  0.552221    94.771242    95.180723   \n",
              "35         18   val  0.621988  0.871665  0.325942    96.078431    95.180723   \n",
              "37         19   val  0.587078  0.664030  0.495835    95.424837    95.180723   \n",
              "39         20   val  0.609450  0.706861  0.493948    96.078431    95.180723   \n",
              "\n",
              "    correct/pos  pr/precision  pr/recall  pr/f1_score  \n",
              "1     94.285714      0.956522   0.942857     0.949640  \n",
              "3     97.142857      0.957746   0.971429     0.964539  \n",
              "5     98.571429      0.958333   0.985714     0.971831  \n",
              "7     97.142857      0.985507   0.971429     0.978417  \n",
              "9    100.000000      0.897436   1.000000     0.945946  \n",
              "11    97.142857      0.944444   0.971429     0.957746  \n",
              "13    94.285714      0.970588   0.942857     0.956522  \n",
              "15    97.142857      0.944444   0.971429     0.957746  \n",
              "17    98.571429      0.945205   0.985714     0.965035  \n",
              "19    97.142857      0.944444   0.971429     0.957746  \n",
              "21    94.285714      0.942857   0.942857     0.942857  \n",
              "23    94.285714      0.942857   0.942857     0.942857  \n",
              "25    95.714286      0.943662   0.957143     0.950355  \n",
              "27    97.142857      0.944444   0.971429     0.957746  \n",
              "29    95.714286      0.943662   0.957143     0.950355  \n",
              "31    94.285714      0.942857   0.942857     0.942857  \n",
              "33    94.285714      0.942857   0.942857     0.942857  \n",
              "35    97.142857      0.944444   0.971429     0.957746  \n",
              "37    95.714286      0.943662   0.957143     0.950355  \n",
              "39    97.142857      0.944444   0.971429     0.957746  "
            ],
            "text/html": [
              "\n",
              "  <div id=\"df-cbd9d643-f08d-40b7-a174-a84fd7c7be1e\" class=\"colab-df-container\">\n",
              "    <div>\n",
              "<style scoped>\n",
              "    .dataframe tbody tr th:only-of-type {\n",
              "        vertical-align: middle;\n",
              "    }\n",
              "\n",
              "    .dataframe tbody tr th {\n",
              "        vertical-align: top;\n",
              "    }\n",
              "\n",
              "    .dataframe thead th {\n",
              "        text-align: right;\n",
              "    }\n",
              "</style>\n",
              "<table border=\"1\" class=\"dataframe\">\n",
              "  <thead>\n",
              "    <tr style=\"text-align: right;\">\n",
              "      <th></th>\n",
              "      <th>epoch_ndx</th>\n",
              "      <th>phase</th>\n",
              "      <th>loss/all</th>\n",
              "      <th>loss/neg</th>\n",
              "      <th>loss/pos</th>\n",
              "      <th>correct/all</th>\n",
              "      <th>correct/neg</th>\n",
              "      <th>correct/pos</th>\n",
              "      <th>pr/precision</th>\n",
              "      <th>pr/recall</th>\n",
              "      <th>pr/f1_score</th>\n",
              "    </tr>\n",
              "  </thead>\n",
              "  <tbody>\n",
              "    <tr>\n",
              "      <th>1</th>\n",
              "      <td>1</td>\n",
              "      <td>val</td>\n",
              "      <td>0.123713</td>\n",
              "      <td>0.101528</td>\n",
              "      <td>0.150018</td>\n",
              "      <td>95.424837</td>\n",
              "      <td>96.385542</td>\n",
              "      <td>94.285714</td>\n",
              "      <td>0.956522</td>\n",
              "      <td>0.942857</td>\n",
              "      <td>0.949640</td>\n",
              "    </tr>\n",
              "    <tr>\n",
              "      <th>3</th>\n",
              "      <td>2</td>\n",
              "      <td>val</td>\n",
              "      <td>0.143699</td>\n",
              "      <td>0.179075</td>\n",
              "      <td>0.101753</td>\n",
              "      <td>96.732026</td>\n",
              "      <td>96.385542</td>\n",
              "      <td>97.142857</td>\n",
              "      <td>0.957746</td>\n",
              "      <td>0.971429</td>\n",
              "      <td>0.964539</td>\n",
              "    </tr>\n",
              "    <tr>\n",
              "      <th>5</th>\n",
              "      <td>3</td>\n",
              "      <td>val</td>\n",
              "      <td>0.193651</td>\n",
              "      <td>0.342800</td>\n",
              "      <td>0.016804</td>\n",
              "      <td>97.385621</td>\n",
              "      <td>96.385542</td>\n",
              "      <td>98.571429</td>\n",
              "      <td>0.958333</td>\n",
              "      <td>0.985714</td>\n",
              "      <td>0.971831</td>\n",
              "    </tr>\n",
              "    <tr>\n",
              "      <th>7</th>\n",
              "      <td>4</td>\n",
              "      <td>val</td>\n",
              "      <td>0.135511</td>\n",
              "      <td>0.163383</td>\n",
              "      <td>0.102462</td>\n",
              "      <td>98.039216</td>\n",
              "      <td>98.795181</td>\n",
              "      <td>97.142857</td>\n",
              "      <td>0.985507</td>\n",
              "      <td>0.971429</td>\n",
              "      <td>0.978417</td>\n",
              "    </tr>\n",
              "    <tr>\n",
              "      <th>9</th>\n",
              "      <td>5</td>\n",
              "      <td>val</td>\n",
              "      <td>0.520292</td>\n",
              "      <td>0.958923</td>\n",
              "      <td>0.000201</td>\n",
              "      <td>94.771242</td>\n",
              "      <td>90.361446</td>\n",
              "      <td>100.000000</td>\n",
              "      <td>0.897436</td>\n",
              "      <td>1.000000</td>\n",
              "      <td>0.945946</td>\n",
              "    </tr>\n",
              "    <tr>\n",
              "      <th>11</th>\n",
              "      <td>6</td>\n",
              "      <td>val</td>\n",
              "      <td>0.312878</td>\n",
              "      <td>0.551063</td>\n",
              "      <td>0.030458</td>\n",
              "      <td>96.078431</td>\n",
              "      <td>95.180723</td>\n",
              "      <td>97.142857</td>\n",
              "      <td>0.944444</td>\n",
              "      <td>0.971429</td>\n",
              "      <td>0.957746</td>\n",
              "    </tr>\n",
              "    <tr>\n",
              "      <th>13</th>\n",
              "      <td>7</td>\n",
              "      <td>val</td>\n",
              "      <td>0.403480</td>\n",
              "      <td>0.200279</td>\n",
              "      <td>0.644419</td>\n",
              "      <td>96.078431</td>\n",
              "      <td>97.590361</td>\n",
              "      <td>94.285714</td>\n",
              "      <td>0.970588</td>\n",
              "      <td>0.942857</td>\n",
              "      <td>0.956522</td>\n",
              "    </tr>\n",
              "    <tr>\n",
              "      <th>15</th>\n",
              "      <td>8</td>\n",
              "      <td>val</td>\n",
              "      <td>0.451738</td>\n",
              "      <td>0.658096</td>\n",
              "      <td>0.207057</td>\n",
              "      <td>96.078431</td>\n",
              "      <td>95.180723</td>\n",
              "      <td>97.142857</td>\n",
              "      <td>0.944444</td>\n",
              "      <td>0.971429</td>\n",
              "      <td>0.957746</td>\n",
              "    </tr>\n",
              "    <tr>\n",
              "      <th>17</th>\n",
              "      <td>9</td>\n",
              "      <td>val</td>\n",
              "      <td>0.586872</td>\n",
              "      <td>0.976921</td>\n",
              "      <td>0.124384</td>\n",
              "      <td>96.732026</td>\n",
              "      <td>95.180723</td>\n",
              "      <td>98.571429</td>\n",
              "      <td>0.945205</td>\n",
              "      <td>0.985714</td>\n",
              "      <td>0.965035</td>\n",
              "    </tr>\n",
              "    <tr>\n",
              "      <th>19</th>\n",
              "      <td>10</td>\n",
              "      <td>val</td>\n",
              "      <td>0.553473</td>\n",
              "      <td>0.750415</td>\n",
              "      <td>0.319956</td>\n",
              "      <td>96.078431</td>\n",
              "      <td>95.180723</td>\n",
              "      <td>97.142857</td>\n",
              "      <td>0.944444</td>\n",
              "      <td>0.971429</td>\n",
              "      <td>0.957746</td>\n",
              "    </tr>\n",
              "    <tr>\n",
              "      <th>21</th>\n",
              "      <td>11</td>\n",
              "      <td>val</td>\n",
              "      <td>0.581514</td>\n",
              "      <td>0.430600</td>\n",
              "      <td>0.760455</td>\n",
              "      <td>94.771242</td>\n",
              "      <td>95.180723</td>\n",
              "      <td>94.285714</td>\n",
              "      <td>0.942857</td>\n",
              "      <td>0.942857</td>\n",
              "      <td>0.942857</td>\n",
              "    </tr>\n",
              "    <tr>\n",
              "      <th>23</th>\n",
              "      <td>12</td>\n",
              "      <td>val</td>\n",
              "      <td>0.573266</td>\n",
              "      <td>0.423889</td>\n",
              "      <td>0.750385</td>\n",
              "      <td>94.771242</td>\n",
              "      <td>95.180723</td>\n",
              "      <td>94.285714</td>\n",
              "      <td>0.942857</td>\n",
              "      <td>0.942857</td>\n",
              "      <td>0.942857</td>\n",
              "    </tr>\n",
              "    <tr>\n",
              "      <th>25</th>\n",
              "      <td>13</td>\n",
              "      <td>val</td>\n",
              "      <td>0.552594</td>\n",
              "      <td>0.699238</td>\n",
              "      <td>0.378717</td>\n",
              "      <td>95.424837</td>\n",
              "      <td>95.180723</td>\n",
              "      <td>95.714286</td>\n",
              "      <td>0.943662</td>\n",
              "      <td>0.957143</td>\n",
              "      <td>0.950355</td>\n",
              "    </tr>\n",
              "    <tr>\n",
              "      <th>27</th>\n",
              "      <td>14</td>\n",
              "      <td>val</td>\n",
              "      <td>0.581430</td>\n",
              "      <td>0.819703</td>\n",
              "      <td>0.298908</td>\n",
              "      <td>96.078431</td>\n",
              "      <td>95.180723</td>\n",
              "      <td>97.142857</td>\n",
              "      <td>0.944444</td>\n",
              "      <td>0.971429</td>\n",
              "      <td>0.957746</td>\n",
              "    </tr>\n",
              "    <tr>\n",
              "      <th>29</th>\n",
              "      <td>15</td>\n",
              "      <td>val</td>\n",
              "      <td>0.622256</td>\n",
              "      <td>0.857394</td>\n",
              "      <td>0.343449</td>\n",
              "      <td>95.424837</td>\n",
              "      <td>95.180723</td>\n",
              "      <td>95.714286</td>\n",
              "      <td>0.943662</td>\n",
              "      <td>0.957143</td>\n",
              "      <td>0.950355</td>\n",
              "    </tr>\n",
              "    <tr>\n",
              "      <th>31</th>\n",
              "      <td>16</td>\n",
              "      <td>val</td>\n",
              "      <td>0.666912</td>\n",
              "      <td>0.623887</td>\n",
              "      <td>0.717928</td>\n",
              "      <td>94.771242</td>\n",
              "      <td>95.180723</td>\n",
              "      <td>94.285714</td>\n",
              "      <td>0.942857</td>\n",
              "      <td>0.942857</td>\n",
              "      <td>0.942857</td>\n",
              "    </tr>\n",
              "    <tr>\n",
              "      <th>33</th>\n",
              "      <td>17</td>\n",
              "      <td>val</td>\n",
              "      <td>0.637500</td>\n",
              "      <td>0.709423</td>\n",
              "      <td>0.552221</td>\n",
              "      <td>94.771242</td>\n",
              "      <td>95.180723</td>\n",
              "      <td>94.285714</td>\n",
              "      <td>0.942857</td>\n",
              "      <td>0.942857</td>\n",
              "      <td>0.942857</td>\n",
              "    </tr>\n",
              "    <tr>\n",
              "      <th>35</th>\n",
              "      <td>18</td>\n",
              "      <td>val</td>\n",
              "      <td>0.621988</td>\n",
              "      <td>0.871665</td>\n",
              "      <td>0.325942</td>\n",
              "      <td>96.078431</td>\n",
              "      <td>95.180723</td>\n",
              "      <td>97.142857</td>\n",
              "      <td>0.944444</td>\n",
              "      <td>0.971429</td>\n",
              "      <td>0.957746</td>\n",
              "    </tr>\n",
              "    <tr>\n",
              "      <th>37</th>\n",
              "      <td>19</td>\n",
              "      <td>val</td>\n",
              "      <td>0.587078</td>\n",
              "      <td>0.664030</td>\n",
              "      <td>0.495835</td>\n",
              "      <td>95.424837</td>\n",
              "      <td>95.180723</td>\n",
              "      <td>95.714286</td>\n",
              "      <td>0.943662</td>\n",
              "      <td>0.957143</td>\n",
              "      <td>0.950355</td>\n",
              "    </tr>\n",
              "    <tr>\n",
              "      <th>39</th>\n",
              "      <td>20</td>\n",
              "      <td>val</td>\n",
              "      <td>0.609450</td>\n",
              "      <td>0.706861</td>\n",
              "      <td>0.493948</td>\n",
              "      <td>96.078431</td>\n",
              "      <td>95.180723</td>\n",
              "      <td>97.142857</td>\n",
              "      <td>0.944444</td>\n",
              "      <td>0.971429</td>\n",
              "      <td>0.957746</td>\n",
              "    </tr>\n",
              "  </tbody>\n",
              "</table>\n",
              "</div>\n",
              "    <div class=\"colab-df-buttons\">\n",
              "\n",
              "  <div class=\"colab-df-container\">\n",
              "    <button class=\"colab-df-convert\" onclick=\"convertToInteractive('df-cbd9d643-f08d-40b7-a174-a84fd7c7be1e')\"\n",
              "            title=\"Convert this dataframe to an interactive table.\"\n",
              "            style=\"display:none;\">\n",
              "\n",
              "  <svg xmlns=\"http://www.w3.org/2000/svg\" height=\"24px\" viewBox=\"0 -960 960 960\">\n",
              "    <path d=\"M120-120v-720h720v720H120Zm60-500h600v-160H180v160Zm220 220h160v-160H400v160Zm0 220h160v-160H400v160ZM180-400h160v-160H180v160Zm440 0h160v-160H620v160ZM180-180h160v-160H180v160Zm440 0h160v-160H620v160Z\"/>\n",
              "  </svg>\n",
              "    </button>\n",
              "\n",
              "  <style>\n",
              "    .colab-df-container {\n",
              "      display:flex;\n",
              "      gap: 12px;\n",
              "    }\n",
              "\n",
              "    .colab-df-convert {\n",
              "      background-color: #E8F0FE;\n",
              "      border: none;\n",
              "      border-radius: 50%;\n",
              "      cursor: pointer;\n",
              "      display: none;\n",
              "      fill: #1967D2;\n",
              "      height: 32px;\n",
              "      padding: 0 0 0 0;\n",
              "      width: 32px;\n",
              "    }\n",
              "\n",
              "    .colab-df-convert:hover {\n",
              "      background-color: #E2EBFA;\n",
              "      box-shadow: 0px 1px 2px rgba(60, 64, 67, 0.3), 0px 1px 3px 1px rgba(60, 64, 67, 0.15);\n",
              "      fill: #174EA6;\n",
              "    }\n",
              "\n",
              "    .colab-df-buttons div {\n",
              "      margin-bottom: 4px;\n",
              "    }\n",
              "\n",
              "    [theme=dark] .colab-df-convert {\n",
              "      background-color: #3B4455;\n",
              "      fill: #D2E3FC;\n",
              "    }\n",
              "\n",
              "    [theme=dark] .colab-df-convert:hover {\n",
              "      background-color: #434B5C;\n",
              "      box-shadow: 0px 1px 3px 1px rgba(0, 0, 0, 0.15);\n",
              "      filter: drop-shadow(0px 1px 2px rgba(0, 0, 0, 0.3));\n",
              "      fill: #FFFFFF;\n",
              "    }\n",
              "  </style>\n",
              "\n",
              "    <script>\n",
              "      const buttonEl =\n",
              "        document.querySelector('#df-cbd9d643-f08d-40b7-a174-a84fd7c7be1e button.colab-df-convert');\n",
              "      buttonEl.style.display =\n",
              "        google.colab.kernel.accessAllowed ? 'block' : 'none';\n",
              "\n",
              "      async function convertToInteractive(key) {\n",
              "        const element = document.querySelector('#df-cbd9d643-f08d-40b7-a174-a84fd7c7be1e');\n",
              "        const dataTable =\n",
              "          await google.colab.kernel.invokeFunction('convertToInteractive',\n",
              "                                                    [key], {});\n",
              "        if (!dataTable) return;\n",
              "\n",
              "        const docLinkHtml = 'Like what you see? Visit the ' +\n",
              "          '<a target=\"_blank\" href=https://colab.research.google.com/notebooks/data_table.ipynb>data table notebook</a>'\n",
              "          + ' to learn more about interactive tables.';\n",
              "        element.innerHTML = '';\n",
              "        dataTable['output_type'] = 'display_data';\n",
              "        await google.colab.output.renderOutput(dataTable, element);\n",
              "        const docLink = document.createElement('div');\n",
              "        docLink.innerHTML = docLinkHtml;\n",
              "        element.appendChild(docLink);\n",
              "      }\n",
              "    </script>\n",
              "  </div>\n",
              "\n",
              "\n",
              "<div id=\"df-c3363433-a3b3-4b95-9693-d4ec07a0d80f\">\n",
              "  <button class=\"colab-df-quickchart\" onclick=\"quickchart('df-c3363433-a3b3-4b95-9693-d4ec07a0d80f')\"\n",
              "            title=\"Suggest charts\"\n",
              "            style=\"display:none;\">\n",
              "\n",
              "<svg xmlns=\"http://www.w3.org/2000/svg\" height=\"24px\"viewBox=\"0 0 24 24\"\n",
              "     width=\"24px\">\n",
              "    <g>\n",
              "        <path d=\"M19 3H5c-1.1 0-2 .9-2 2v14c0 1.1.9 2 2 2h14c1.1 0 2-.9 2-2V5c0-1.1-.9-2-2-2zM9 17H7v-7h2v7zm4 0h-2V7h2v10zm4 0h-2v-4h2v4z\"/>\n",
              "    </g>\n",
              "</svg>\n",
              "  </button>\n",
              "\n",
              "<style>\n",
              "  .colab-df-quickchart {\n",
              "      --bg-color: #E8F0FE;\n",
              "      --fill-color: #1967D2;\n",
              "      --hover-bg-color: #E2EBFA;\n",
              "      --hover-fill-color: #174EA6;\n",
              "      --disabled-fill-color: #AAA;\n",
              "      --disabled-bg-color: #DDD;\n",
              "  }\n",
              "\n",
              "  [theme=dark] .colab-df-quickchart {\n",
              "      --bg-color: #3B4455;\n",
              "      --fill-color: #D2E3FC;\n",
              "      --hover-bg-color: #434B5C;\n",
              "      --hover-fill-color: #FFFFFF;\n",
              "      --disabled-bg-color: #3B4455;\n",
              "      --disabled-fill-color: #666;\n",
              "  }\n",
              "\n",
              "  .colab-df-quickchart {\n",
              "    background-color: var(--bg-color);\n",
              "    border: none;\n",
              "    border-radius: 50%;\n",
              "    cursor: pointer;\n",
              "    display: none;\n",
              "    fill: var(--fill-color);\n",
              "    height: 32px;\n",
              "    padding: 0;\n",
              "    width: 32px;\n",
              "  }\n",
              "\n",
              "  .colab-df-quickchart:hover {\n",
              "    background-color: var(--hover-bg-color);\n",
              "    box-shadow: 0 1px 2px rgba(60, 64, 67, 0.3), 0 1px 3px 1px rgba(60, 64, 67, 0.15);\n",
              "    fill: var(--button-hover-fill-color);\n",
              "  }\n",
              "\n",
              "  .colab-df-quickchart-complete:disabled,\n",
              "  .colab-df-quickchart-complete:disabled:hover {\n",
              "    background-color: var(--disabled-bg-color);\n",
              "    fill: var(--disabled-fill-color);\n",
              "    box-shadow: none;\n",
              "  }\n",
              "\n",
              "  .colab-df-spinner {\n",
              "    border: 2px solid var(--fill-color);\n",
              "    border-color: transparent;\n",
              "    border-bottom-color: var(--fill-color);\n",
              "    animation:\n",
              "      spin 1s steps(1) infinite;\n",
              "  }\n",
              "\n",
              "  @keyframes spin {\n",
              "    0% {\n",
              "      border-color: transparent;\n",
              "      border-bottom-color: var(--fill-color);\n",
              "      border-left-color: var(--fill-color);\n",
              "    }\n",
              "    20% {\n",
              "      border-color: transparent;\n",
              "      border-left-color: var(--fill-color);\n",
              "      border-top-color: var(--fill-color);\n",
              "    }\n",
              "    30% {\n",
              "      border-color: transparent;\n",
              "      border-left-color: var(--fill-color);\n",
              "      border-top-color: var(--fill-color);\n",
              "      border-right-color: var(--fill-color);\n",
              "    }\n",
              "    40% {\n",
              "      border-color: transparent;\n",
              "      border-right-color: var(--fill-color);\n",
              "      border-top-color: var(--fill-color);\n",
              "    }\n",
              "    60% {\n",
              "      border-color: transparent;\n",
              "      border-right-color: var(--fill-color);\n",
              "    }\n",
              "    80% {\n",
              "      border-color: transparent;\n",
              "      border-right-color: var(--fill-color);\n",
              "      border-bottom-color: var(--fill-color);\n",
              "    }\n",
              "    90% {\n",
              "      border-color: transparent;\n",
              "      border-bottom-color: var(--fill-color);\n",
              "    }\n",
              "  }\n",
              "</style>\n",
              "\n",
              "  <script>\n",
              "    async function quickchart(key) {\n",
              "      const quickchartButtonEl =\n",
              "        document.querySelector('#' + key + ' button');\n",
              "      quickchartButtonEl.disabled = true;  // To prevent multiple clicks.\n",
              "      quickchartButtonEl.classList.add('colab-df-spinner');\n",
              "      try {\n",
              "        const charts = await google.colab.kernel.invokeFunction(\n",
              "            'suggestCharts', [key], {});\n",
              "      } catch (error) {\n",
              "        console.error('Error during call to suggestCharts:', error);\n",
              "      }\n",
              "      quickchartButtonEl.classList.remove('colab-df-spinner');\n",
              "      quickchartButtonEl.classList.add('colab-df-quickchart-complete');\n",
              "    }\n",
              "    (() => {\n",
              "      let quickchartButtonEl =\n",
              "        document.querySelector('#df-c3363433-a3b3-4b95-9693-d4ec07a0d80f button');\n",
              "      quickchartButtonEl.style.display =\n",
              "        google.colab.kernel.accessAllowed ? 'block' : 'none';\n",
              "    })();\n",
              "  </script>\n",
              "</div>\n",
              "\n",
              "  <div id=\"id_13c659a8-ea37-42ef-8547-94992aee5b0f\">\n",
              "    <style>\n",
              "      .colab-df-generate {\n",
              "        background-color: #E8F0FE;\n",
              "        border: none;\n",
              "        border-radius: 50%;\n",
              "        cursor: pointer;\n",
              "        display: none;\n",
              "        fill: #1967D2;\n",
              "        height: 32px;\n",
              "        padding: 0 0 0 0;\n",
              "        width: 32px;\n",
              "      }\n",
              "\n",
              "      .colab-df-generate:hover {\n",
              "        background-color: #E2EBFA;\n",
              "        box-shadow: 0px 1px 2px rgba(60, 64, 67, 0.3), 0px 1px 3px 1px rgba(60, 64, 67, 0.15);\n",
              "        fill: #174EA6;\n",
              "      }\n",
              "\n",
              "      [theme=dark] .colab-df-generate {\n",
              "        background-color: #3B4455;\n",
              "        fill: #D2E3FC;\n",
              "      }\n",
              "\n",
              "      [theme=dark] .colab-df-generate:hover {\n",
              "        background-color: #434B5C;\n",
              "        box-shadow: 0px 1px 3px 1px rgba(0, 0, 0, 0.15);\n",
              "        filter: drop-shadow(0px 1px 2px rgba(0, 0, 0, 0.3));\n",
              "        fill: #FFFFFF;\n",
              "      }\n",
              "    </style>\n",
              "    <button class=\"colab-df-generate\" onclick=\"generateWithVariable('history_val')\"\n",
              "            title=\"Generate code using this dataframe.\"\n",
              "            style=\"display:none;\">\n",
              "\n",
              "  <svg xmlns=\"http://www.w3.org/2000/svg\" height=\"24px\"viewBox=\"0 0 24 24\"\n",
              "       width=\"24px\">\n",
              "    <path d=\"M7,19H8.4L18.45,9,17,7.55,7,17.6ZM5,21V16.75L18.45,3.32a2,2,0,0,1,2.83,0l1.4,1.43a1.91,1.91,0,0,1,.58,1.4,1.91,1.91,0,0,1-.58,1.4L9.25,21ZM18.45,9,17,7.55Zm-12,3A5.31,5.31,0,0,0,4.9,8.1,5.31,5.31,0,0,0,1,6.5,5.31,5.31,0,0,0,4.9,4.9,5.31,5.31,0,0,0,6.5,1,5.31,5.31,0,0,0,8.1,4.9,5.31,5.31,0,0,0,12,6.5,5.46,5.46,0,0,0,6.5,12Z\"/>\n",
              "  </svg>\n",
              "    </button>\n",
              "    <script>\n",
              "      (() => {\n",
              "      const buttonEl =\n",
              "        document.querySelector('#id_13c659a8-ea37-42ef-8547-94992aee5b0f button.colab-df-generate');\n",
              "      buttonEl.style.display =\n",
              "        google.colab.kernel.accessAllowed ? 'block' : 'none';\n",
              "\n",
              "      buttonEl.onclick = () => {\n",
              "        google.colab.notebook.generateWithVariable('history_val');\n",
              "      }\n",
              "      })();\n",
              "    </script>\n",
              "  </div>\n",
              "\n",
              "    </div>\n",
              "  </div>\n"
            ],
            "application/vnd.google.colaboratory.intrinsic+json": {
              "type": "dataframe",
              "variable_name": "history_val",
              "summary": "{\n  \"name\": \"history_val\",\n  \"rows\": 20,\n  \"fields\": [\n    {\n      \"column\": \"epoch_ndx\",\n      \"properties\": {\n        \"dtype\": \"number\",\n        \"std\": 5,\n        \"min\": 1,\n        \"max\": 20,\n        \"num_unique_values\": 20,\n        \"samples\": [\n          1,\n          18,\n          16\n        ],\n        \"semantic_type\": \"\",\n        \"description\": \"\"\n      }\n    },\n    {\n      \"column\": \"phase\",\n      \"properties\": {\n        \"dtype\": \"category\",\n        \"num_unique_values\": 1,\n        \"samples\": [\n          \"val\"\n        ],\n        \"semantic_type\": \"\",\n        \"description\": \"\"\n      }\n    },\n    {\n      \"column\": \"loss/all\",\n      \"properties\": {\n        \"dtype\": \"number\",\n        \"std\": 0.18576576329967898,\n        \"min\": 0.12371309101581573,\n        \"max\": 0.666912317276001,\n        \"num_unique_values\": 20,\n        \"samples\": [\n          0.12371309101581573\n        ],\n        \"semantic_type\": \"\",\n        \"description\": \"\"\n      }\n    },\n    {\n      \"column\": \"loss/neg\",\n      \"properties\": {\n        \"dtype\": \"number\",\n        \"std\": 0.2736325537513431,\n        \"min\": 0.10152795165777206,\n        \"max\": 0.9769214391708374,\n        \"num_unique_values\": 20,\n        \"samples\": [\n          0.10152795165777206\n        ],\n        \"semantic_type\": \"\",\n        \"description\": \"\"\n      }\n    },\n    {\n      \"column\": \"loss/pos\",\n      \"properties\": {\n        \"dtype\": \"number\",\n        \"std\": 0.2520116356659851,\n        \"min\": 0.00020122255955357105,\n        \"max\": 0.7604549527168274,\n        \"num_unique_values\": 20,\n        \"samples\": [\n          0.1500183492898941\n        ],\n        \"semantic_type\": \"\",\n        \"description\": \"\"\n      }\n    },\n    {\n      \"column\": \"correct/all\",\n      \"properties\": {\n        \"dtype\": \"number\",\n        \"std\": 0.9065159698583093,\n        \"min\": 94.77124183006535,\n        \"max\": 98.0392156862745,\n        \"num_unique_values\": 6,\n        \"samples\": [\n          95.42483660130719\n        ],\n        \"semantic_type\": \"\",\n        \"description\": \"\"\n      }\n    },\n    {\n      \"column\": \"correct/neg\",\n      \"properties\": {\n        \"dtype\": \"number\",\n        \"std\": 1.5439115072703289,\n        \"min\": 90.36144578313254,\n        \"max\": 98.79518072289156,\n        \"num_unique_values\": 5,\n        \"samples\": [\n          98.79518072289156\n        ],\n        \"semantic_type\": \"\",\n        \"description\": \"\"\n      }\n    },\n    {\n      \"column\": \"correct/pos\",\n      \"properties\": {\n        \"dtype\": \"number\",\n        \"std\": 1.701392618446805,\n        \"min\": 94.28571428571428,\n        \"max\": 100.0,\n        \"num_unique_values\": 5,\n        \"samples\": [\n          97.14285714285714\n        ],\n        \"semantic_type\": \"\",\n        \"description\": \"\"\n      }\n    },\n    {\n      \"column\": \"pr/precision\",\n      \"properties\": {\n        \"dtype\": \"number\",\n        \"std\": 0.016181348822166076,\n        \"min\": 0.8974358974358975,\n        \"max\": 0.9855072463768116,\n        \"num_unique_values\": 10,\n        \"samples\": [\n          0.9428571428571428\n        ],\n        \"semantic_type\": \"\",\n        \"description\": \"\"\n      }\n    },\n    {\n      \"column\": \"pr/recall\",\n      \"properties\": {\n        \"dtype\": \"number\",\n        \"std\": 0.017013926184468026,\n        \"min\": 0.9428571428571428,\n        \"max\": 1.0,\n        \"num_unique_values\": 5,\n        \"samples\": [\n          0.9714285714285714\n        ],\n        \"semantic_type\": \"\",\n        \"description\": \"\"\n      }\n    },\n    {\n      \"column\": \"pr/f1_score\",\n      \"properties\": {\n        \"dtype\": \"number\",\n        \"std\": 0.00983044366902468,\n        \"min\": 0.9428571428571428,\n        \"max\": 0.9784172661870504,\n        \"num_unique_values\": 10,\n        \"samples\": [\n          0.9428571428571428\n        ],\n        \"semantic_type\": \"\",\n        \"description\": \"\"\n      }\n    }\n  ]\n}"
            }
          },
          "metadata": {}
        }
      ]
    },
    {
      "cell_type": "code",
      "source": [
        "print(type(history_train['epoch_ndx']))"
      ],
      "metadata": {
        "colab": {
          "base_uri": "https://localhost:8080/"
        },
        "id": "kOojJSIVrWLX",
        "outputId": "fbbd049d-9138-4375-c3a4-f47a6aa266e4"
      },
      "execution_count": 38,
      "outputs": [
        {
          "output_type": "stream",
          "name": "stdout",
          "text": [
            "<class 'pandas.core.series.Series'>\n"
          ]
        }
      ]
    },
    {
      "cell_type": "code",
      "source": [
        "import matplotlib.pyplot as plt\n",
        "%matplotlib inline\n",
        "\n",
        "\n",
        "fig,(ax1,ax2,ax3)=plt.subplots(1,3,figsize=(30,10))\n",
        "\n",
        "# correct/all\n",
        "ax1.plot(history_train['epoch_ndx'],history_train['correct/all'],\n",
        "         marker='.',\n",
        "         label='loss (Train)')\n",
        "ax1.plot(history_val['epoch_ndx'],history_val['correct/all'],\n",
        "         marker='.',\n",
        "         label='loss (Val)')\n",
        "ax1.legend(loc='best')\n",
        "ax1.grid()\n",
        "ax1.set_title('correct/all')\n",
        "ax1.set_xlabel('epoch')\n",
        "ax1.set_ylabel('correct/all')\n",
        "\n",
        "# correct/all\n",
        "ax2.plot(history_train['epoch_ndx'],history_train['correct/neg'],\n",
        "         marker='.',\n",
        "         label='loss (Train)')\n",
        "ax2.plot(history_val['epoch_ndx'],history_val['correct/neg'],\n",
        "         marker='.',\n",
        "         label='loss (Val)')\n",
        "ax2.legend(loc='best')\n",
        "ax2.grid()\n",
        "ax2.set_title('correct/neg')\n",
        "ax2.set_xlabel('epoch')\n",
        "ax2.set_ylabel('correct/neg')\n",
        "\n",
        "# correct/all\n",
        "ax3.plot(history_train['epoch_ndx'],history_train['correct/pos'],\n",
        "         marker='.',\n",
        "         label='loss (Train)')\n",
        "ax3.plot(history_val['epoch_ndx'],history_val['correct/pos'],\n",
        "         marker='.',\n",
        "         label='loss (Val)')\n",
        "ax3.legend(loc='best')\n",
        "ax3.grid()\n",
        "ax3.set_title('correct/pos')\n",
        "ax3.set_xlabel('epoch')\n",
        "ax3.set_ylabel('correct/pos')\n",
        "\n",
        "\n",
        "plt.show()\n",
        "\n"
      ],
      "metadata": {
        "colab": {
          "base_uri": "https://localhost:8080/",
          "height": 551
        },
        "id": "OqmLYNVIbSeh",
        "outputId": "fe3e1bf6-9835-42ca-e263-5eba536b12d5"
      },
      "execution_count": 39,
      "outputs": [
        {
          "output_type": "display_data",
          "data": {
            "text/plain": [
              "<Figure size 3000x1000 with 3 Axes>"
            ],
            "image/png": "[encoded data removed]"
          },
          "metadata": {}
        }
      ]
    },
    {
      "cell_type": "markdown",
      "metadata": {
        "id": "jX5YJv2bXsDi"
      },
      "source": [
        "#END"
      ]
    }
  ]
}